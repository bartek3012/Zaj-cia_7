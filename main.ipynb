{
 "cells": [
  {
   "cell_type": "code",
   "execution_count": 45,
   "metadata": {},
   "outputs": [],
   "source": [
    "import RandomNumberGenerator as rand\n",
    "import numpy as np\n",
    "import math\n",
    "import time\n",
    "import tqdm\n",
    "import matplotlib.pyplot as plt\n",
    "import copy\n",
    "\n",
    "rand_p = rand.RandomNumberGenerator(940)\n",
    "rand_w = rand.RandomNumberGenerator(98)\n",
    "rand_d = rand.RandomNumberGenerator(689)\n",
    "rand_0 = rand.RandomNumberGenerator(56)\n",
    "rand_1 = rand.RandomNumberGenerator(3)\n",
    "rand_2 = rand.RandomNumberGenerator(345)\n",
    "rand_3 = rand.RandomNumberGenerator(10)\n",
    "rand_4 = rand.RandomNumberGenerator(935)\n",
    "rand_5 = rand.RandomNumberGenerator(90)\n",
    "rand_6 = rand.RandomNumberGenerator(87)\n",
    "rand_7 = rand.RandomNumberGenerator(6556)\n",
    "rand_generator = [rand_0, rand_1, rand_2, rand_3, rand_4, rand_5, rand_6, rand_7]\n",
    "\n",
    "A = 0\n",
    "number_of_machines = 3\n",
    "n = 30\n",
    "p_periods = np.zeros((number_of_machines, n))\n",
    "d_deadlies = np.zeros(n)\n",
    "for i in range(number_of_machines):\n",
    "    for j in range(n):\n",
    "        p_periods[i,j] = rand_p.nextInt(1,99)\n",
    "        A = A + p_periods[i,j]\n",
    "# B = (1/2)*A\n",
    "# A = (1/6)*A\n",
    "# B = (1/12)*A\n",
    "# A = (1/24)*A\n",
    "B = int(np.floor((1/2) * A))\n",
    "A = int(np.floor((1/6) * A))\n",
    "for j in range(n):\n",
    "    d_deadlies[j] = rand_d.nextInt(A, B)"
   ]
  },
  {
   "cell_type": "code",
   "execution_count": 46,
   "metadata": {},
   "outputs": [],
   "source": [
    "def goal_function(permutation, periods, deadlines, number_machines, criterion = 1):\n",
    "    n = len(permutation)\n",
    "    C = np.zeros((number_machines, n))\n",
    "    for i in range(number_machines):\n",
    "        for j in range(n):\n",
    "            #C[i,j] = max(C[i-1,j], C[i,j-1]) + periods[i, j]\n",
    "            if j > 1 and i > 1:\n",
    "                C[i][permutation[j]] = np.maximum(C[i - 1][permutation[j]], C[i][permutation[j - 1]]) + periods[i][permutation[j]]  # (1)\n",
    "            if j == 1 and i > 1:\n",
    "                C[i][permutation[j]] = C[i - 1][permutation[j]] + periods[i][permutation[j]]  # (2)\n",
    "            if j > 1 and i == 1:\n",
    "                C[i][permutation[j]] = C[i][permutation[j - 1]] + periods[i][permutation[j]]  # (3)\n",
    "            if j == 1 and i == 1:\n",
    "                C[i][permutation[j]] = periods[i][permutation[j]]  # (4)\n",
    "    # Czas zakończenia wszystkich zadań (makespan)\n",
    "    if(criterion == 1):\n",
    "        try:\n",
    "            return max(C[2, :])\n",
    "        except:\n",
    "            print(periods)\n",
    "    \n",
    "    # Maksymalne spóźnienie zadania (max tardiness)\n",
    "    if(criterion == 2):\n",
    "        return max(max(C[2,:]-deadlines[:]),0)\n",
    "    \n",
    "    # Maksymalna nieterminowość zadania (max lateness)\n",
    "    if(criterion == 3):\n",
    "        return max(C[2,:]-deadlines[:])\n",
    "    \n",
    "    # Suma nieterminowości zadań (total lateness)\n",
    "    if(criterion == 4):\n",
    "        total = 0\n",
    "        for i in range(len(deadlines)):\n",
    "            total = total + max(C[2,i]-deadlines[i], 0)\n",
    "        return total"
   ]
  },
  {
   "cell_type": "code",
   "execution_count": 47,
   "metadata": {},
   "outputs": [],
   "source": [
    "def get_random_permutation(n, random_gen):\n",
    "    available = [x for x in range(n)]\n",
    "    result = []\n",
    "    for i in range(n):\n",
    "        index = random_gen.nextInt(0, len(available)-1)\n",
    "        result.append(available.pop(index))\n",
    "    return result"
   ]
  },
  {
   "cell_type": "code",
   "execution_count": 48,
   "metadata": {},
   "outputs": [
    {
     "data": {
      "text/plain": [
       "[4, 0]"
      ]
     },
     "execution_count": 48,
     "metadata": {},
     "output_type": "execute_result"
    }
   ],
   "source": [
    "def roll(n, random_gen):\n",
    "    random_gen.nextInt(1, n)\n",
    "    result = []\n",
    "    result.append(random_gen.nextInt(0, n-1))\n",
    "    result.append(random_gen.nextInt(0, n-1))\n",
    "    while result[0] == result[1]:\n",
    "        result[1] = random_gen.nextInt(0,n-1)\n",
    "    return result\n",
    "\n",
    "roll(5, rand_w)"
   ]
  },
  {
   "cell_type": "code",
   "execution_count": 49,
   "metadata": {},
   "outputs": [],
   "source": [
    "def task_1(periods, deadlines, number_machines, max_iter, random_gen, proba = 0.05):\n",
    "    n = len(deadlines)\n",
    "    P = []\n",
    "    x = get_random_permutation(n, random_gen[0])\n",
    "    P.append(copy.deepcopy(x))\n",
    "#     print(f'Poczatkowe: {P}')\n",
    "    for it in range(max_iter):\n",
    "#         if(P[0] == []):\n",
    "#             print(f'Index: {it}')\n",
    "        numbers_to_change = roll(n, random_gen[1])\n",
    "        x_prim = copy.deepcopy(x)\n",
    "        x_prim[numbers_to_change[0]] = x[numbers_to_change[1]]\n",
    "        x_prim[numbers_to_change[1]] = x[numbers_to_change[0]]\n",
    "        \n",
    "        x_goal_f_1 = goal_function(x, periods, deadlines, number_machines, 1)\n",
    "        x_goal_f_2 = goal_function(x, periods, deadlines, number_machines, 2)\n",
    "        x_prim_goal_f_1 = goal_function(x_prim, periods, deadlines, number_machines, 1)\n",
    "        x_prim_goal_f_2 = goal_function(x_prim, periods, deadlines, number_machines, 2)\n",
    "        if((x_prim_goal_f_1 < x_goal_f_1 and x_prim_goal_f_2 <= x_goal_f_2) or (x_prim_goal_f_1 <= x_goal_f_1 and x_prim_goal_f_2 < x_goal_f_2)):\n",
    "            x = copy.deepcopy(x_prim)\n",
    "            P.append(copy.deepcopy(x_prim))\n",
    "        else:\n",
    "            if(proba > random_gen[2].nextFloat(0,1)):\n",
    "                #x.clear() #Tutaj był błąd, nie wiedzieć czemu przypisanie z linijki niżej nie działało\n",
    "                x = copy.deepcopy(x_prim)\n",
    "                P.append(copy.deepcopy(x_prim))\n",
    "#     print(f'Późniejsze: {P}')\n",
    "    F = copy.deepcopy(P)\n",
    "#     print(f'P: {P}')\n",
    "#     print(f'F: {F}')\n",
    "    for i in range(len(P)):\n",
    "        b_1 = goal_function(P[i], periods, deadlines, number_machines, 1)\n",
    "        b_2 = goal_function(P[i], periods, deadlines, number_machines, 2)\n",
    "        for a in F:\n",
    "            a_1 = goal_function(a, periods, deadlines, number_machines, 1)\n",
    "            a_2 = goal_function(a, periods, deadlines, number_machines, 2)\n",
    "            if((a_1 < b_1 and a_2 <= b_2) or (a_1 <= b_1 and a_2 < b_2)):\n",
    "                F.remove(P[i])\n",
    "                break\n",
    "    P_f_goal_1 = []\n",
    "    P_f_goal_2 = []\n",
    "    F_f_goal_1 = []\n",
    "    F_f_goal_2 = []\n",
    "    for i in range(len(P)):\n",
    "        P_f_goal_1.append(goal_function(P[i], periods, deadlines, number_machines, 1))\n",
    "        P_f_goal_2.append(goal_function(P[i], periods, deadlines, number_machines, 2))\n",
    "    for i in range(len(F)):\n",
    "        F_f_goal_1.append(goal_function(F[i], periods, deadlines, number_machines, 1))\n",
    "        F_f_goal_2.append(goal_function(F[i], periods, deadlines, number_machines, 2))\n",
    "    return P, F, P_f_goal_1, P_f_goal_2, F_f_goal_1, F_f_goal_2           "
   ]
  },
  {
   "cell_type": "code",
   "execution_count": 50,
   "metadata": {},
   "outputs": [],
   "source": [
    "P, F, P_goal_1, P_goal_2, F_goal_1, F_goal_2 = task_1(p_periods, d_deadlies, number_of_machines, 1000, rand_generator)"
   ]
  },
  {
   "cell_type": "code",
   "execution_count": 51,
   "metadata": {},
   "outputs": [
    {
     "data": {
      "image/png": "[encoded data removed]",
      "text/plain": [
       "<Figure size 432x288 with 1 Axes>"
      ]
     },
     "metadata": {
      "needs_background": "light"
     },
     "output_type": "display_data"
    }
   ],
   "source": [
    "def plot_pareto(F_goal_1, F_goal_2, P_goal_1, P_goal_2):\n",
    "    plt.scatter(P_goal_1, P_goal_2)\n",
    "    plt.scatter(F_goal_1, F_goal_2)\n",
    "    plt.show()\n",
    "\n",
    "plot_pareto(F_goal_1, F_goal_2, P_goal_1, P_goal_2)"
   ]
  },
  {
   "cell_type": "markdown",
   "metadata": {},
   "source": [
    "## Zadanie 2"
   ]
  },
  {
   "cell_type": "code",
   "execution_count": 52,
   "metadata": {},
   "outputs": [],
   "source": [
    "def task_2(periods, deadlines, number_machines, max_iter, random_gen, factors, proba = 0.05):\n",
    "    n = len(deadlines)\n",
    "    x = get_random_permutation(n, random_gen[0])\n",
    "    x_best = copy.deepcopy(x)\n",
    "    for i in range(max_iter):\n",
    "        n = len(deadlines)\n",
    "        numbers_to_change = roll(n, random_gen[1])\n",
    "        x_prim = copy.deepcopy(x)\n",
    "        x_prim[numbers_to_change[0]] = x[numbers_to_change[1]]\n",
    "        x_prim[numbers_to_change[1]] = x[numbers_to_change[0]]\n",
    "        \n",
    "        goal_function_x = 0\n",
    "        goal_function_x_prim = 0\n",
    "        goal_function_x_best = 0\n",
    "        for j in range(3):\n",
    "            goal_function_x = goal_function_x + (goal_function(x, periods, deadlines, number_machines, j+1)*factors[j])\n",
    "            goal_function_x_prim = goal_function_x_prim + (goal_function(x_prim, periods, deadlines, number_machines, j+1)*factors[j])\n",
    "            goal_function_x_best = goal_function_x_best + (goal_function(x_best, periods, deadlines, number_machines, j+1)*factors[j])                                     \n",
    "#             print(f'{j}: {goal_function(x_prim, periods, deadlines, number_machines, j+1)*factors[j]}')\n",
    "#         print('----------')\n",
    "        if goal_function_x_prim < goal_function_x:\n",
    "            x = copy.deepcopy(x_prim)\n",
    "            if goal_function_x < goal_function_x_best:\n",
    "                x_best = copy.deepcopy(x)\n",
    "        else:\n",
    "            if proba > random_gen[2].nextFloat(0,1):\n",
    "                x = copy.deepcopy(x_prim)\n",
    "        #print(goal_function_x)\n",
    "    goal_function_best = 0\n",
    "    return goal_function_x_best\n",
    "                    "
   ]
  },
  {
   "cell_type": "code",
   "execution_count": 53,
   "metadata": {},
   "outputs": [
    {
     "data": {
      "text/plain": [
       "2268.4"
      ]
     },
     "execution_count": 53,
     "metadata": {},
     "output_type": "execute_result"
    }
   ],
   "source": [
    "task_2(p_periods, d_deadlies, number_of_machines, 1000, rand_generator, [1, 2.65, 2.65])"
   ]
  },
  {
   "cell_type": "code",
   "execution_count": 35,
   "metadata": {},
   "outputs": [],
   "source": [
    "def task_3(periods, deadlines, number_machines, max_iter, random_gen, proba = 0.05):\n",
    "    n = len(deadlines)\n",
    "    P = []\n",
    "    x = get_random_permutation(n, random_gen[0])\n",
    "    P.append(copy.deepcopy(x))\n",
    "#     print(f'Poczatkowe: {P}')\n",
    "    for it in range(max_iter):\n",
    "#         if(P[0] == []):\n",
    "#             print(f'Index: {it}')\n",
    "        numbers_to_change = roll(n, random_gen[1])\n",
    "        x_prim = copy.deepcopy(x)\n",
    "        x_prim[numbers_to_change[0]] = x[numbers_to_change[1]]\n",
    "        x_prim[numbers_to_change[1]] = x[numbers_to_change[0]]\n",
    "        \n",
    "        x_goal_f = []\n",
    "        x_prim_goal_f = []\n",
    "        for j in range(4):\n",
    "            x_goal_f.append(goal_function(x, periods, deadlines, number_machines, j+1))\n",
    "            x_prim_goal_f.append(goal_function(x_prim, periods, deadlines, number_machines, j+1))\n",
    "        is_better = False\n",
    "        for j in range(4):\n",
    "            if x_prim_goal_f[3-j] < x_goal_f[3-j] and x_prim_goal_f[2-j] <= x_goal_f[2-j] and x_prim_goal_f[1-j] <= x_goal_f[1-j] and x_prim_goal_f[0-j] <= x_goal_f[0-j]:\n",
    "                x = copy.deepcopy(x_prim)\n",
    "                P.append(copy.deepcopy(x_prim))\n",
    "                is_better = True\n",
    "                break\n",
    "        if is_better == False:\n",
    "            if(proba > random_gen[2].nextFloat(0,1)):\n",
    "                #x.clear() #Tutaj był błąd, nie wiedzieć czemu przypisanie z linijki niżej nie działało\n",
    "                x = copy.deepcopy(x_prim)\n",
    "                P.append(copy.deepcopy(x_prim))\n",
    "#     print(f'Późniejsze: {P}')\n",
    "    F = copy.deepcopy(P)\n",
    "#     print(f'P: {P}')\n",
    "#     print(f'F: {F}')\n",
    "    for i in range(len(P)):\n",
    "        b_goal_f = []\n",
    "        for j in range(4):\n",
    "            b_goal_f.append(goal_function(P[i], periods, deadlines, number_machines, j+1))\n",
    "        for a in F:\n",
    "            a_goal_f = []\n",
    "            for j in range(4):\n",
    "                a_goal_f.append(goal_function(a, periods, deadlines, number_machines, j+1))\n",
    "            to_remove = False\n",
    "            for j in range(4):\n",
    "                if a_goal_f[3-j] < b_goal_f[3-j] and a_goal_f[2-j] <= b_goal_f[2-j] and a_goal_f[1-j] <= b_goal_f[1-j] and a_goal_f[0-j] <= b_goal_f[0-j]:\n",
    "                   to_remove = True\n",
    "                   break\n",
    "            if to_remove == True:\n",
    "                F.remove(P[i])\n",
    "                break\n",
    "    P_f_goal_1 = []\n",
    "    P_f_goal_2 = []\n",
    "    P_f_goal_3 = []\n",
    "    P_f_goal_4 = []\n",
    "                   \n",
    "    F_f_goal_1 = []\n",
    "    F_f_goal_2 = []\n",
    "    F_f_goal_3 = []\n",
    "    F_f_goal_4 = []\n",
    "    for i in range(len(P)):\n",
    "        P_f_goal_1.append(goal_function(P[i], periods, deadlines, number_machines, 1))\n",
    "        P_f_goal_2.append(goal_function(P[i], periods, deadlines, number_machines, 2))\n",
    "        P_f_goal_3.append(goal_function(P[i], periods, deadlines, number_machines, 3))\n",
    "        P_f_goal_4.append(goal_function(P[i], periods, deadlines, number_machines, 4))\n",
    "    for i in range(len(F)):\n",
    "        F_f_goal_1.append(goal_function(F[i], periods, deadlines, number_machines, 1))\n",
    "        F_f_goal_2.append(goal_function(F[i], periods, deadlines, number_machines, 2))\n",
    "        F_f_goal_3.append(goal_function(F[i], periods, deadlines, number_machines, 3))\n",
    "        F_f_goal_4.append(goal_function(F[i], periods, deadlines, number_machines, 4))\n",
    "    return P, F, P_f_goal_1, P_f_goal_2, P_f_goal_3, P_f_goal_4, F_f_goal_1, F_f_goal_2, F_f_goal_3, F_f_goal_4           "
   ]
  },
  {
   "cell_type": "code",
   "execution_count": 36,
   "metadata": {},
   "outputs": [],
   "source": [
    "P, F, P_goal_1, P_goal_2, P_goal_3, P_goal_4, F_goal_1, F_goal_2, F_goal_3, F_goal_4 = task_3(p_periods, d_deadlies, number_of_machines, 10000, rand_generator, 0.05)"
   ]
  },
  {
   "cell_type": "code",
   "execution_count": 37,
   "metadata": {},
   "outputs": [
    {
     "name": "stdout",
     "output_type": "stream",
     "text": [
      "Kryt 1:\n",
      "[1612.0, 1583.0, 1565.0, 1585.0, 1565.0, 1565.0, 1565.0, 1565.0, 1565.0, 1565.0, 1565.0, 1565.0, 1565.0, 1575.0, 1522.0, 1522.0, 1541.0, 1531.0, 1531.0, 1531.0, 1531.0, 1531.0, 1541.0, 1541.0, 1513.0, 1513.0, 1503.0, 1497.0, 1546.0, 1604.0, 1546.0, 1546.0, 1546.0, 1544.0, 1557.0, 1557.0, 1510.0, 1510.0, 1510.0, 1510.0, 1510.0, 1510.0, 1510.0, 1510.0, 1510.0, 1510.0, 1510.0, 1510.0, 1510.0, 1510.0, 1510.0, 1494.0, 1494.0, 1494.0, 1579.0, 1578.0, 1615.0, 1615.0, 1615.0, 1615.0, 1561.0, 1542.0, 1541.0, 1517.0, 1513.0, 1513.0, 1595.0, 1559.0, 1559.0, 1559.0, 1559.0, 1620.0, 1620.0, 1585.0, 1532.0, 1542.0, 1542.0, 1532.0, 1532.0, 1532.0, 1532.0, 1532.0, 1554.0, 1517.0, 1517.0, 1517.0, 1517.0, 1517.0, 1517.0, 1538.0, 1530.0, 1557.0, 1557.0, 1517.0, 1517.0, 1517.0, 1517.0, 1517.0, 1517.0, 1519.0, 1519.0, 1485.0, 1485.0, 1469.0, 1469.0, 1469.0, 1469.0, 1463.0, 1495.0, 1495.0, 1463.0, 1515.0, 1484.0, 1476.0, 1542.0, 1558.0, 1558.0, 1535.0, 1535.0, 1535.0, 1535.0, 1535.0, 1479.0, 1479.0, 1479.0, 1479.0, 1479.0, 1479.0, 1479.0, 1527.0, 1508.0, 1548.0, 1543.0, 1559.0, 1547.0, 1529.0, 1529.0, 1529.0, 1547.0, 1499.0, 1499.0, 1499.0, 1499.0, 1499.0, 1499.0, 1499.0, 1499.0, 1499.0, 1499.0, 1499.0, 1499.0, 1552.0, 1552.0, 1552.0, 1552.0, 1544.0, 1544.0, 1544.0, 1502.0, 1514.0, 1502.0, 1502.0, 1502.0, 1502.0, 1528.0, 1492.0, 1493.0, 1493.0, 1483.0, 1483.0, 1483.0, 1525.0, 1525.0, 1525.0, 1524.0, 1524.0, 1524.0, 1524.0, 1524.0, 1524.0, 1524.0, 1524.0, 1524.0, 1524.0, 1483.0, 1436.0, 1436.0, 1436.0, 1435.0, 1435.0, 1435.0, 1435.0, 1445.0, 1445.0, 1445.0, 1445.0, 1445.0, 1445.0, 1483.0, 1477.0, 1445.0, 1445.0, 1445.0, 1445.0, 1445.0, 1445.0, 1487.0, 1487.0, 1487.0, 1487.0, 1487.0, 1487.0, 1487.0, 1549.0, 1627.0, 1658.0, 1658.0, 1658.0, 1596.0, 1574.0, 1553.0, 1539.0, 1517.0, 1517.0, 1517.0, 1547.0, 1547.0, 1547.0, 1547.0, 1547.0, 1547.0, 1547.0, 1547.0, 1480.0, 1479.0, 1499.0, 1499.0, 1499.0, 1499.0, 1499.0, 1499.0, 1499.0, 1479.0, 1479.0, 1479.0, 1548.0, 1548.0, 1548.0, 1548.0, 1525.0, 1568.0, 1551.0, 1548.0, 1576.0, 1564.0, 1563.0, 1548.0, 1546.0, 1539.0, 1539.0, 1557.0, 1557.0, 1539.0, 1539.0, 1559.0, 1559.0, 1674.0, 1665.0, 1665.0, 1575.0, 1575.0, 1559.0, 1559.0, 1647.0, 1591.0, 1588.0, 1588.0, 1566.0, 1513.0, 1513.0, 1513.0, 1481.0, 1481.0, 1495.0, 1530.0, 1523.0, 1523.0, 1489.0, 1484.0, 1478.0, 1478.0, 1461.0, 1461.0, 1461.0, 1461.0, 1461.0, 1461.0, 1461.0, 1461.0, 1461.0, 1484.0, 1441.0, 1441.0, 1441.0, 1514.0, 1501.0, 1496.0, 1496.0, 1496.0, 1463.0, 1441.0, 1441.0, 1516.0, 1516.0, 1500.0, 1500.0, 1500.0, 1500.0, 1517.0, 1525.0, 1525.0, 1525.0, 1525.0, 1525.0, 1525.0, 1508.0, 1544.0, 1544.0, 1508.0, 1508.0, 1508.0, 1553.0, 1546.0, 1532.0, 1532.0, 1532.0, 1532.0, 1508.0, 1508.0, 1508.0, 1544.0, 1544.0, 1544.0, 1544.0, 1527.0, 1530.0, 1530.0, 1530.0, 1508.0, 1505.0, 1505.0, 1505.0, 1505.0, 1505.0, 1505.0, 1505.0, 1505.0, 1575.0, 1575.0, 1517.0, 1517.0, 1517.0, 1517.0, 1517.0, 1517.0, 1517.0, 1517.0, 1536.0, 1517.0, 1517.0, 1517.0, 1517.0, 1517.0, 1596.0, 1573.0, 1546.0, 1545.0, 1536.0, 1572.0, 1572.0, 1552.0, 1541.0, 1534.0, 1485.0, 1485.0, 1485.0, 1485.0, 1484.0, 1484.0, 1484.0, 1484.0, 1484.0, 1484.0, 1484.0, 1484.0, 1484.0, 1484.0, 1484.0, 1484.0, 1516.0, 1516.0, 1516.0, 1516.0, 1516.0, 1516.0, 1516.0, 1495.0, 1495.0, 1495.0, 1495.0, 1495.0, 1495.0, 1495.0, 1495.0, 1507.0, 1507.0, 1507.0, 1507.0, 1507.0, 1507.0, 1507.0, 1507.0, 1507.0, 1507.0, 1488.0, 1488.0, 1488.0, 1488.0, 1488.0, 1488.0, 1592.0, 1571.0, 1571.0, 1542.0, 1575.0, 1502.0, 1492.0, 1493.0, 1494.0, 1493.0, 1493.0, 1493.0, 1546.0, 1546.0, 1546.0, 1546.0, 1546.0, 1492.0, 1492.0, 1492.0, 1492.0, 1579.0, 1579.0, 1644.0, 1644.0, 1644.0, 1644.0, 1643.0, 1546.0, 1546.0, 1546.0, 1546.0, 1546.0, 1516.0, 1516.0, 1516.0, 1524.0, 1516.0, 1516.0, 1541.0, 1518.0, 1518.0, 1518.0, 1511.0, 1511.0, 1511.0, 1500.0, 1500.0, 1483.0, 1483.0, 1469.0, 1469.0, 1469.0, 1469.0, 1518.0, 1518.0, 1518.0, 1518.0, 1489.0, 1545.0, 1489.0, 1489.0, 1489.0, 1489.0, 1567.0, 1567.0, 1567.0, 1559.0, 1570.0, 1567.0, 1567.0, 1679.0, 1679.0, 1647.0, 1647.0, 1694.0, 1674.0, 1617.0, 1604.0, 1628.0, 1628.0, 1604.0, 1604.0, 1604.0, 1602.0, 1547.0, 1547.0, 1542.0, 1542.0, 1533.0, 1518.0, 1518.0, 1518.0, 1518.0, 1518.0, 1518.0, 1610.0, 1610.0, 1610.0, 1557.0, 1557.0, 1557.0, 1502.0, 1502.0, 1547.0, 1679.0, 1654.0, 1604.0, 1604.0, 1649.0, 1605.0, 1609.0, 1556.0, 1555.0, 1564.0, 1564.0, 1564.0, 1564.0, 1564.0, 1543.0, 1543.0, 1543.0, 1543.0, 1539.0, 1516.0, 1517.0, 1530.0, 1530.0, 1530.0, 1584.0, 1566.0, 1566.0, 1566.0, 1566.0, 1514.0, 1551.0, 1551.0, 1551.0, 1551.0, 1551.0, 1518.0, 1514.0, 1514.0, 1558.0, 1546.0, 1537.0, 1537.0, 1537.0, 1588.0, 1585.0, 1597.0, 1597.0, 1574.0, 1574.0, 1574.0, 1637.0, 1637.0, 1603.0, 1603.0, 1598.0, 1588.0, 1604.0, 1604.0, 1575.0, 1570.0, 1570.0, 1520.0, 1518.0, 1518.0, 1503.0, 1503.0, 1503.0, 1503.0, 1503.0, 1503.0, 1503.0, 1503.0, 1503.0, 1503.0, 1502.0, 1578.0, 1502.0, 1502.0, 1502.0, 1502.0, 1506.0, 1502.0, 1502.0, 1502.0, 1502.0, 1502.0, 1502.0, 1502.0, 1502.0, 1502.0, 1502.0, 1533.0, 1514.0, 1514.0, 1502.0, 1502.0, 1498.0, 1498.0, 1494.0, 1494.0, 1494.0, 1494.0, 1494.0, 1494.0, 1494.0, 1494.0, 1494.0, 1494.0, 1494.0, 1563.0, 1534.0, 1494.0, 1494.0, 1520.0, 1520.0, 1520.0, 1520.0, 1520.0, 1520.0, 1520.0, 1504.0, 1504.0, 1504.0, 1504.0, 1504.0, 1494.0, 1494.0, 1494.0, 1494.0, 1506.0, 1506.0, 1506.0, 1578.0, 1549.0, 1549.0, 1527.0, 1494.0, 1494.0, 1502.0, 1494.0, 1494.0, 1484.0, 1484.0, 1484.0, 1484.0, 1484.0, 1476.0, 1476.0, 1476.0, 1476.0, 1476.0, 1476.0, 1476.0, 1476.0, 1476.0, 1476.0, 1476.0, 1476.0, 1529.0, 1502.0, 1476.0, 1476.0, 1551.0, 1551.0, 1546.0, 1518.0, 1476.0, 1476.0, 1476.0, 1541.0, 1525.0, 1515.0, 1515.0, 1504.0, 1504.0, 1504.0, 1504.0, 1504.0, 1504.0, 1504.0, 1504.0, 1504.0, 1504.0, 1504.0, 1504.0, 1504.0, 1504.0, 1504.0, 1504.0, 1504.0, 1504.0, 1525.0, 1525.0, 1525.0, 1525.0, 1525.0, 1516.0, 1575.0, 1575.0, 1575.0, 1482.0, 1482.0, 1520.0, 1500.0, 1482.0, 1476.0, 1476.0, 1476.0, 1476.0, 1476.0, 1476.0, 1476.0, 1476.0, 1476.0, 1476.0, 1476.0, 1450.0, 1450.0, 1450.0, 1450.0, 1450.0, 1505.0, 1505.0, 1505.0, 1505.0, 1505.0, 1505.0, 1505.0, 1504.0, 1504.0, 1504.0, 1482.0, 1482.0, 1460.0, 1460.0, 1460.0, 1460.0, 1460.0, 1460.0, 1460.0, 1460.0, 1460.0, 1460.0, 1460.0, 1460.0, 1460.0, 1460.0, 1460.0, 1460.0, 1460.0, 1509.0, 1483.0, 1483.0, 1465.0, 1460.0, 1476.0, 1476.0, 1460.0, 1459.0, 1476.0, 1476.0, 1476.0, 1476.0, 1476.0, 1476.0, 1515.0, 1515.0, 1515.0, 1515.0, 1515.0, 1515.0, 1531.0, 1531.0, 1531.0, 1492.0, 1451.0, 1552.0, 1517.0, 1517.0, 1496.0, 1490.0, 1451.0, 1451.0, 1450.0, 1450.0, 1450.0, 1450.0, 1497.0, 1494.0, 1541.0, 1541.0, 1541.0, 1541.0, 1541.0, 1541.0, 1494.0, 1564.0, 1564.0, 1513.0, 1507.0, 1494.0, 1503.0, 1523.0, 1494.0, 1507.0, 1490.0, 1457.0, 1457.0, 1457.0, 1457.0, 1457.0, 1457.0, 1457.0, 1457.0, 1476.0, 1476.0, 1476.0, 1476.0, 1476.0, 1476.0, 1476.0, 1486.0, 1493.0, 1476.0, 1476.0, 1476.0, 1476.0, 1476.0, 1476.0, 1476.0, 1476.0, 1476.0, 1476.0, 1476.0, 1476.0, 1467.0, 1499.0, 1625.0, 1616.0, 1534.0, 1502.0, 1546.0, 1546.0, 1510.0, 1510.0, 1510.0, 1510.0, 1510.0, 1510.0, 1510.0, 1509.0, 1509.0, 1484.0, 1484.0, 1484.0, 1488.0, 1488.0, 1484.0, 1484.0, 1581.0, 1563.0, 1526.0, 1523.0, 1503.0, 1503.0, 1503.0, 1503.0, 1487.0, 1487.0, 1487.0, 1481.0, 1481.0, 1481.0, 1481.0, 1481.0, 1481.0, 1481.0, 1481.0, 1481.0, 1481.0, 1481.0, 1476.0, 1472.0, 1472.0, 1472.0, 1472.0, 1472.0, 1472.0, 1535.0, 1524.0, 1524.0, 1514.0, 1508.0, 1508.0, 1508.0, 1477.0, 1477.0, 1477.0, 1477.0, 1477.0, 1477.0, 1477.0, 1477.0, 1477.0, 1488.0, 1488.0, 1488.0, 1477.0, 1477.0, 1477.0, 1477.0, 1477.0, 1477.0, 1477.0, 1477.0, 1477.0, 1477.0, 1462.0, 1457.0, 1457.0, 1457.0, 1457.0, 1457.0, 1457.0, 1538.0, 1538.0, 1538.0, 1538.0, 1538.0, 1538.0, 1538.0, 1538.0, 1537.0, 1635.0, 1537.0, 1630.0, 1694.0, 1694.0, 1657.0, 1589.0, 1563.0, 1563.0, 1563.0, 1563.0, 1563.0, 1563.0, 1563.0, 1563.0, 1571.0, 1553.0, 1531.0, 1527.0, 1519.0, 1519.0, 1519.0, 1517.0, 1517.0, 1517.0, 1505.0, 1520.0, 1520.0, 1520.0, 1520.0, 1500.0, 1500.0, 1498.0, 1498.0, 1498.0, 1498.0, 1498.0, 1498.0, 1498.0, 1498.0, 1480.0, 1480.0, 1509.0, 1507.0, 1507.0, 1516.0, 1516.0, 1493.0, 1493.0, 1489.0, 1487.0, 1487.0, 1487.0, 1486.0, 1486.0, 1481.0, 1481.0, 1481.0, 1481.0, 1481.0, 1481.0, 1481.0, 1481.0, 1481.0, 1481.0, 1481.0, 1481.0, 1481.0, 1481.0, 1481.0, 1481.0, 1481.0, 1530.0, 1558.0, 1536.0, 1536.0, 1536.0, 1599.0, 1575.0, 1575.0, 1641.0, 1641.0, 1641.0, 1641.0, 1641.0, 1619.0, 1619.0, 1596.0, 1598.0, 1598.0, 1598.0, 1598.0, 1598.0, 1678.0, 1678.0, 1678.0, 1616.0, 1552.0, 1552.0, 1552.0, 1552.0, 1552.0, 1552.0, 1547.0, 1547.0, 1539.0, 1523.0, 1523.0, 1523.0, 1523.0, 1581.0, 1581.0, 1583.0, 1560.0, 1560.0, 1560.0, 1560.0, 1560.0, 1560.0, 1519.0, 1519.0, 1519.0, 1529.0, 1529.0, 1541.0, 1541.0, 1541.0, 1522.0, 1522.0, 1522.0, 1510.0, 1496.0, 1496.0, 1476.0, 1476.0, 1476.0, 1476.0, 1476.0, 1476.0, 1476.0, 1476.0, 1476.0, 1476.0, 1476.0, 1476.0, 1500.0, 1482.0, 1482.0, 1482.0, 1476.0, 1583.0, 1583.0, 1578.0, 1578.0, 1578.0, 1578.0, 1578.0, 1615.0, 1592.0, 1584.0, 1578.0, 1570.0, 1494.0, 1494.0, 1494.0, 1494.0, 1515.0, 1515.0, 1515.0, 1495.0, 1562.0, 1546.0, 1523.0, 1523.0, 1523.0, 1523.0, 1521.0, 1534.0, 1647.0, 1592.0, 1592.0, 1583.0, 1564.0, 1512.0, 1476.0, 1476.0, 1476.0, 1476.0, 1476.0, 1476.0, 1476.0, 1476.0, 1476.0, 1474.0, 1474.0, 1474.0, 1474.0, 1474.0, 1474.0, 1467.0, 1467.0, 1467.0, 1467.0, 1467.0, 1477.0, 1467.0, 1467.0, 1540.0, 1509.0, 1509.0, 1532.0, 1467.0, 1467.0, 1467.0, 1467.0, 1517.0, 1512.0, 1467.0, 1467.0, 1467.0, 1467.0, 1467.0, 1467.0, 1467.0, 1467.0, 1467.0, 1467.0, 1467.0, 1502.0, 1469.0, 1469.0, 1467.0, 1467.0, 1467.0, 1467.0, 1502.0, 1502.0, 1502.0, 1502.0, 1502.0, 1486.0, 1486.0, 1486.0, 1486.0, 1486.0, 1486.0, 1486.0, 1569.0, 1519.0, 1519.0, 1519.0, 1519.0, 1519.0, 1519.0, 1519.0, 1519.0, 1519.0, 1519.0, 1519.0, 1519.0, 1510.0, 1510.0, 1510.0, 1510.0, 1510.0, 1510.0, 1510.0, 1510.0, 1510.0, 1510.0, 1484.0, 1484.0, 1484.0, 1484.0, 1484.0, 1484.0, 1521.0, 1518.0, 1518.0, 1507.0, 1507.0, 1507.0, 1558.0, 1558.0, 1520.0, 1520.0, 1520.0, 1520.0, 1520.0, 1520.0, 1520.0, 1520.0, 1520.0, 1520.0, 1520.0, 1520.0, 1520.0, 1542.0, 1542.0, 1542.0, 1520.0, 1520.0, 1520.0, 1520.0, 1520.0, 1520.0, 1520.0, 1520.0, 1520.0, 1520.0, 1519.0, 1519.0, 1519.0, 1519.0, 1519.0, 1519.0, 1534.0, 1565.0, 1558.0, 1554.0, 1552.0, 1548.0, 1560.0, 1548.0, 1548.0, 1616.0, 1616.0, 1566.0, 1543.0, 1543.0, 1529.0, 1617.0, 1529.0, 1529.0, 1529.0, 1516.0, 1468.0, 1468.0, 1468.0, 1468.0, 1468.0, 1468.0, 1468.0, 1468.0, 1441.0, 1552.0, 1552.0, 1550.0, 1516.0, 1516.0, 1552.0, 1552.0, 1552.0, 1552.0, 1552.0, 1552.0, 1552.0, 1552.0, 1552.0, 1552.0, 1572.0, 1562.0, 1538.0, 1538.0, 1538.0, 1538.0, 1538.0, 1538.0, 1538.0, 1538.0, 1538.0, 1538.0, 1538.0, 1538.0, 1538.0, 1538.0, 1538.0, 1538.0, 1538.0, 1538.0, 1538.0, 1522.0, 1522.0, 1562.0, 1544.0, 1544.0, 1544.0, 1544.0, 1544.0, 1530.0, 1530.0, 1530.0, 1530.0, 1530.0, 1530.0, 1530.0, 1530.0, 1530.0, 1530.0, 1530.0, 1530.0, 1530.0, 1515.0, 1473.0, 1473.0, 1473.0, 1473.0, 1473.0, 1473.0, 1473.0, 1473.0, 1473.0, 1600.0, 1600.0, 1600.0, 1591.0, 1660.0, 1660.0, 1675.0, 1675.0, 1630.0, 1584.0, 1591.0, 1591.0, 1591.0, 1537.0, 1485.0, 1485.0, 1485.0, 1485.0, 1485.0, 1485.0, 1485.0, 1479.0, 1479.0, 1479.0, 1479.0, 1484.0, 1484.0, 1479.0, 1479.0, 1479.0, 1479.0, 1479.0, 1479.0, 1479.0, 1479.0, 1479.0, 1479.0, 1479.0, 1479.0, 1479.0, 1479.0, 1479.0, 1479.0, 1479.0, 1479.0, 1512.0, 1512.0, 1479.0, 1479.0, 1479.0, 1474.0, 1474.0, 1474.0, 1474.0]\n",
      "Kryt 2:\n",
      "[614.0, 585.0, 580.0, 621.0, 562.0, 542.0, 542.0, 542.0, 551.0, 551.0, 551.0, 247.0, 286.0, 521.0, 458.0, 458.0, 458.0, 223.0, 223.0, 223.0, 223.0, 223.0, 223.0, 223.0, 222.0, 221.0, 221.0, 292.0, 475.0, 533.0, 475.0, 475.0, 475.0, 473.0, 615.0, 615.0, 582.0, 582.0, 582.0, 582.0, 582.0, 577.0, 577.0, 577.0, 577.0, 597.0, 592.0, 383.0, 286.0, 286.0, 250.0, 225.0, 222.0, 222.0, 442.0, 475.0, 557.0, 528.0, 528.0, 528.0, 593.0, 574.0, 573.0, 549.0, 524.0, 376.0, 424.0, 388.0, 388.0, 388.0, 388.0, 818.0, 818.0, 783.0, 730.0, 740.0, 740.0, 730.0, 730.0, 730.0, 730.0, 730.0, 579.0, 542.0, 542.0, 542.0, 542.0, 542.0, 542.0, 563.0, 555.0, 747.0, 747.0, 780.0, 780.0, 780.0, 780.0, 780.0, 780.0, 782.0, 782.0, 748.0, 748.0, 732.0, 732.0, 732.0, 260.0, 244.0, 487.0, 487.0, 446.0, 517.0, 486.0, 478.0, 478.0, 494.0, 494.0, 471.0, 471.0, 456.0, 428.0, 265.0, 265.0, 265.0, 265.0, 265.0, 265.0, 289.0, 289.0, 332.0, 318.0, 365.0, 360.0, 565.0, 309.0, 309.0, 309.0, 309.0, 628.0, 572.0, 564.0, 564.0, 564.0, 564.0, 564.0, 564.0, 564.0, 507.0, 507.0, 507.0, 483.0, 552.0, 552.0, 552.0, 552.0, 493.0, 493.0, 455.0, 455.0, 476.0, 455.0, 455.0, 430.0, 263.0, 323.0, 323.0, 324.0, 282.0, 242.0, 242.0, 242.0, 697.0, 697.0, 697.0, 293.0, 293.0, 293.0, 293.0, 293.0, 188.0, 188.0, 188.0, 188.0, 171.0, 171.0, 171.0, 171.0, 171.0, 168.0, 162.0, 51.0, 332.0, 345.0, 316.0, 428.0, 428.0, 428.0, 428.0, 314.0, 308.0, 505.0, 505.0, 505.0, 316.0, 316.0, 316.0, 309.0, 309.0, 338.0, 324.0, 309.0, 309.0, 309.0, 250.0, 250.0, 465.0, 465.0, 465.0, 403.0, 403.0, 382.0, 458.0, 254.0, 254.0, 254.0, 486.0, 486.0, 486.0, 486.0, 486.0, 486.0, 486.0, 486.0, 419.0, 418.0, 438.0, 438.0, 294.0, 294.0, 294.0, 270.0, 270.0, 250.0, 0, 0, 0, 0, 0, 0, 0, 739.0, 634.0, 394.0, 422.0, 410.0, 409.0, 394.0, 392.0, 73.0, 64.0, 397.0, 397.0, 373.0, 368.0, 388.0, 388.0, 605.0, 596.0, 596.0, 562.0, 562.0, 413.0, 411.0, 416.0, 402.0, 378.0, 378.0, 373.0, 403.0, 384.0, 384.0, 339.0, 339.0, 363.0, 473.0, 391.0, 407.0, 373.0, 352.0, 343.0, 343.0, 724.0, 724.0, 724.0, 724.0, 724.0, 724.0, 724.0, 724.0, 724.0, 747.0, 704.0, 704.0, 704.0, 777.0, 764.0, 759.0, 759.0, 759.0, 726.0, 704.0, 704.0, 306.0, 302.0, 302.0, 302.0, 302.0, 216.0, 216.0, 216.0, 310.0, 279.0, 279.0, 211.0, 573.0, 556.0, 693.0, 693.0, 556.0, 552.0, 552.0, 601.0, 594.0, 580.0, 580.0, 580.0, 580.0, 552.0, 552.0, 552.0, 585.0, 584.0, 251.0, 94.0, 90.0, 99.0, 99.0, 78.0, 73.0, 49.0, 152.0, 135.0, 135.0, 116.0, 271.0, 245.0, 116.0, 800.0, 800.0, 691.0, 691.0, 691.0, 691.0, 691.0, 691.0, 691.0, 691.0, 710.0, 691.0, 691.0, 691.0, 691.0, 691.0, 770.0, 747.0, 720.0, 294.0, 285.0, 764.0, 764.0, 744.0, 405.0, 398.0, 349.0, 349.0, 349.0, 349.0, 323.0, 323.0, 182.0, 182.0, 561.0, 561.0, 561.0, 561.0, 228.0, 115.0, 115.0, 115.0, 714.0, 714.0, 564.0, 564.0, 194.0, 189.0, 233.0, 169.0, 169.0, 162.0, 124.0, 124.0, 101.0, 101.0, 145.0, 145.0, 145.0, 351.0, 351.0, 339.0, 339.0, 339.0, 271.0, 493.0, 493.0, 474.0, 474.0, 170.0, 170.0, 170.0, 106.0, 92.0, 71.0, 71.0, 42.0, 155.0, 120.0, 116.0, 116.0, 163.0, 142.0, 142.0, 102.0, 203.0, 203.0, 78.0, 78.0, 78.0, 7.0, 59.0, 59.0, 0, 384.0, 330.0, 395.0, 395.0, 329.0, 329.0, 328.0, 46.0, 46.0, 46.0, 46.0, 46.0, 16.0, 16.0, 16.0, 80.0, 53.0, 53.0, 172.0, 145.0, 145.0, 145.0, 129.0, 59.0, 59.0, 48.0, 48.0, 550.0, 550.0, 535.0, 141.0, 107.0, 65.0, 85.0, 55.0, 0, 0, 0, 256.0, 0, 135.0, 135.0, 0, 0, 138.0, 126.0, 126.0, 319.0, 316.0, 316.0, 775.0, 775.0, 743.0, 743.0, 790.0, 770.0, 713.0, 700.0, 724.0, 724.0, 700.0, 700.0, 700.0, 607.0, 296.0, 296.0, 291.0, 291.0, 105.0, 105.0, 119.0, 119.0, 101.0, 101.0, 101.0, 793.0, 793.0, 793.0, 369.0, 369.0, 335.0, 138.0, 119.0, 479.0, 531.0, 527.0, 149.0, 149.0, 194.0, 177.0, 664.0, 651.0, 650.0, 587.0, 584.0, 584.0, 581.0, 442.0, 442.0, 166.0, 166.0, 158.0, 158.0, 74.0, 74.0, 74.0, 59.0, 59.0, 713.0, 424.0, 424.0, 424.0, 424.0, 126.0, 174.0, 174.0, 174.0, 174.0, 159.0, 117.0, 99.0, 99.0, 154.0, 142.0, 113.0, 113.0, 0, 254.0, 251.0, 653.0, 440.0, 240.0, 221.0, 221.0, 268.0, 92.0, 659.0, 659.0, 659.0, 633.0, 630.0, 630.0, 613.0, 606.0, 596.0, 558.0, 544.0, 541.0, 629.0, 629.0, 165.0, 149.0, 105.0, 105.0, 79.0, 132.0, 76.0, 76.0, 0, 444.0, 0, 0, 0, 0, 483.0, 471.0, 536.0, 494.0, 469.0, 469.0, 469.0, 469.0, 445.0, 445.0, 402.0, 635.0, 425.0, 479.0, 461.0, 393.0, 393.0, 295.0, 345.0, 335.0, 669.0, 613.0, 288.0, 288.0, 288.0, 288.0, 288.0, 288.0, 288.0, 357.0, 328.0, 288.0, 288.0, 288.0, 196.0, 196.0, 21.0, 12.0, 0, 0, 0, 0, 189.0, 189.0, 183.0, 183.0, 388.0, 382.0, 192.0, 606.0, 584.0, 584.0, 656.0, 454.0, 454.0, 206.0, 173.0, 173.0, 228.0, 220.0, 220.0, 220.0, 220.0, 105.0, 102.0, 102.0, 102.0, 175.0, 110.0, 108.0, 108.0, 108.0, 108.0, 100.0, 85.0, 69.0, 69.0, 30.0, 200.0, 240.0, 98.0, 59.0, 88.0, 88.0, 90.0, 67.0, 546.0, 546.0, 546.0, 739.0, 723.0, 713.0, 713.0, 490.0, 333.0, 329.0, 327.0, 327.0, 299.0, 260.0, 260.0, 260.0, 39.0, 39.0, 58.0, 429.0, 191.0, 219.0, 219.0, 178.0, 178.0, 184.0, 152.0, 230.0, 230.0, 211.0, 541.0, 755.0, 755.0, 755.0, 736.0, 596.0, 634.0, 614.0, 596.0, 552.0, 385.0, 385.0, 311.0, 311.0, 311.0, 311.0, 341.0, 341.0, 311.0, 311.0, 285.0, 285.0, 285.0, 285.0, 285.0, 340.0, 340.0, 340.0, 475.0, 475.0, 475.0, 340.0, 339.0, 339.0, 468.0, 446.0, 430.0, 404.0, 404.0, 295.0, 296.0, 295.0, 295.0, 295.0, 295.0, 295.0, 295.0, 295.0, 295.0, 295.0, 295.0, 295.0, 295.0, 295.0, 344.0, 318.0, 318.0, 300.0, 295.0, 311.0, 311.0, 295.0, 294.0, 311.0, 537.0, 311.0, 311.0, 311.0, 311.0, 350.0, 350.0, 350.0, 350.0, 350.0, 350.0, 366.0, 366.0, 366.0, 327.0, 286.0, 387.0, 352.0, 352.0, 331.0, 325.0, 286.0, 286.0, 285.0, 285.0, 285.0, 285.0, 332.0, 329.0, 376.0, 376.0, 376.0, 376.0, 14.0, 0, 0, 762.0, 747.0, 672.0, 666.0, 581.0, 590.0, 673.0, 644.0, 657.0, 640.0, 600.0, 600.0, 478.0, 395.0, 394.0, 394.0, 394.0, 394.0, 390.0, 390.0, 357.0, 357.0, 353.0, 353.0, 353.0, 399.0, 583.0, 574.0, 574.0, 536.0, 536.0, 536.0, 536.0, 407.0, 290.0, 283.0, 262.0, 262.0, 258.0, 250.0, 281.0, 688.0, 679.0, 597.0, 592.0, 636.0, 720.0, 684.0, 684.0, 684.0, 675.0, 675.0, 675.0, 643.0, 642.0, 642.0, 611.0, 611.0, 611.0, 621.0, 102.0, 92.0, 0, 587.0, 569.0, 532.0, 272.0, 252.0, 169.0, 130.0, 133.0, 117.0, 117.0, 55.0, 209.0, 209.0, 209.0, 101.0, 98.0, 127.0, 127.0, 92.0, 70.0, 70.0, 58.0, 58.0, 10.0, 9.0, 9.0, 0, 100.0, 0, 500.0, 489.0, 445.0, 435.0, 369.0, 369.0, 369.0, 300.0, 275.0, 275.0, 198.0, 89.0, 89.0, 35.0, 0, 0, 38.0, 155.0, 155.0, 138.0, 132.0, 0, 0, 0, 503.0, 527.0, 503.0, 491.0, 146.0, 146.0, 135.0, 131.0, 68.0, 519.0, 519.0, 519.0, 524.0, 524.0, 524.0, 524.0, 524.0, 524.0, 524.0, 342.0, 342.0, 784.0, 342.0, 636.0, 835.0, 835.0, 798.0, 726.0, 700.0, 700.0, 700.0, 700.0, 700.0, 700.0, 700.0, 700.0, 708.0, 559.0, 537.0, 525.0, 525.0, 525.0, 525.0, 316.0, 316.0, 67.0, 67.0, 100.0, 100.0, 100.0, 44.0, 22.0, 44.0, 59.0, 59.0, 410.0, 410.0, 410.0, 410.0, 410.0, 410.0, 383.0, 382.0, 421.0, 466.0, 466.0, 475.0, 475.0, 452.0, 584.0, 582.0, 580.0, 580.0, 580.0, 578.0, 578.0, 573.0, 443.0, 316.0, 316.0, 316.0, 316.0, 316.0, 316.0, 316.0, 316.0, 316.0, 316.0, 316.0, 316.0, 316.0, 316.0, 316.0, 505.0, 533.0, 511.0, 506.0, 371.0, 434.0, 410.0, 326.0, 364.0, 247.0, 286.0, 286.0, 253.0, 231.0, 145.0, 122.0, 124.0, 47.0, 47.0, 24.0, 0, 60.0, 60.0, 60.0, 34.0, 67.0, 348.0, 348.0, 348.0, 286.0, 0, 0, 271.0, 271.0, 262.0, 5.0, 0.0, 0, 0, 0, 505.0, 499.0, 447.0, 447.0, 447.0, 248.0, 433.0, 684.0, 684.0, 684.0, 694.0, 694.0, 706.0, 706.0, 706.0, 687.0, 393.0, 376.0, 364.0, 362.0, 362.0, 340.0, 340.0, 259.0, 230.0, 220.0, 217.0, 358.0, 358.0, 217.0, 217.0, 125.0, 125.0, 458.0, 160.0, 160.0, 285.0, 272.0, 747.0, 747.0, 742.0, 727.0, 727.0, 727.0, 727.0, 764.0, 741.0, 733.0, 727.0, 719.0, 468.0, 468.0, 456.0, 414.0, 435.0, 435.0, 435.0, 415.0, 482.0, 459.0, 434.0, 507.0, 498.0, 454.0, 433.0, 465.0, 578.0, 523.0, 523.0, 514.0, 495.0, 486.0, 450.0, 440.0, 440.0, 440.0, 440.0, 440.0, 440.0, 240.0, 223.0, 214.0, 214.0, 214.0, 214.0, 214.0, 214.0, 214.0, 213.0, 211.0, 211.0, 194.0, 224.0, 194.0, 194.0, 740.0, 709.0, 709.0, 732.0, 604.0, 604.0, 604.0, 604.0, 657.0, 652.0, 604.0, 604.0, 604.0, 604.0, 604.0, 604.0, 604.0, 604.0, 604.0, 604.0, 335.0, 344.0, 311.0, 311.0, 289.0, 263.0, 354.0, 578.0, 633.0, 633.0, 633.0, 633.0, 633.0, 571.0, 571.0, 564.0, 60.0, 594.0, 594.0, 60.0, 767.0, 128.0, 104.0, 24.0, 60.0, 359.0, 17.0, 12.0, 12.0, 490.0, 75.0, 73.0, 68.0, 68.0, 56.0, 57.0, 47.0, 47.0, 0, 0, 0, 5.0, 0, 0, 0, 0, 0, 0, 130.0, 167.0, 153.0, 148.0, 776.0, 776.0, 776.0, 820.0, 783.0, 713.0, 713.0, 713.0, 713.0, 713.0, 553.0, 553.0, 373.0, 273.0, 273.0, 312.0, 236.0, 98.0, 272.0, 272.0, 263.0, 241.0, 241.0, 181.0, 203.0, 203.0, 203.0, 200.0, 200.0, 40.0, 0, 0, 0, 0, 0, 0, 0, 160.0, 227.0, 193.0, 151.0, 151.0, 149.0, 734.0, 722.0, 722.0, 790.0, 790.0, 740.0, 717.0, 717.0, 703.0, 791.0, 703.0, 703.0, 703.0, 690.0, 642.0, 642.0, 642.0, 642.0, 642.0, 642.0, 642.0, 642.0, 615.0, 726.0, 726.0, 474.0, 457.0, 457.0, 485.0, 478.0, 132.0, 116.0, 116.0, 116.0, 113.0, 113.0, 113.0, 113.0, 152.0, 142.0, 115.0, 99.0, 9.0, 0, 506.0, 114.0, 0, 0, 0, 0, 20.0, 0, 0, 0, 0, 0, 649.0, 649.0, 551.0, 535.0, 411.0, 340.0, 324.0, 324.0, 363.0, 363.0, 363.0, 425.0, 392.0, 390.0, 390.0, 390.0, 390.0, 326.0, 260.0, 299.0, 299.0, 279.0, 114.0, 114.0, 114.0, 684.0, 684.0, 684.0, 577.0, 577.0, 548.0, 548.0, 548.0, 548.0, 675.0, 675.0, 675.0, 666.0, 735.0, 735.0, 750.0, 750.0, 705.0, 659.0, 666.0, 666.0, 666.0, 612.0, 559.0, 559.0, 559.0, 559.0, 559.0, 559.0, 559.0, 553.0, 549.0, 420.0, 394.0, 447.0, 417.0, 375.0, 364.0, 364.0, 662.0, 662.0, 662.0, 662.0, 662.0, 593.0, 593.0, 593.0, 559.0, 373.0, 373.0, 373.0, 373.0, 373.0, 373.0, 550.0, 550.0, 509.0, 486.0, 475.0, 470.0, 470.0, 343.0, 310.0]\n",
      "Kryt 3:\n",
      "[614.0, 585.0, 580.0, 621.0, 562.0, 542.0, 542.0, 542.0, 551.0, 551.0, 551.0, 247.0, 286.0, 521.0, 458.0, 458.0, 458.0, 223.0, 223.0, 223.0, 223.0, 223.0, 223.0, 223.0, 222.0, 221.0, 221.0, 292.0, 475.0, 533.0, 475.0, 475.0, 475.0, 473.0, 615.0, 615.0, 582.0, 582.0, 582.0, 582.0, 582.0, 577.0, 577.0, 577.0, 577.0, 597.0, 592.0, 383.0, 286.0, 286.0, 250.0, 225.0, 222.0, 222.0, 442.0, 475.0, 557.0, 528.0, 528.0, 528.0, 593.0, 574.0, 573.0, 549.0, 524.0, 376.0, 424.0, 388.0, 388.0, 388.0, 388.0, 818.0, 818.0, 783.0, 730.0, 740.0, 740.0, 730.0, 730.0, 730.0, 730.0, 730.0, 579.0, 542.0, 542.0, 542.0, 542.0, 542.0, 542.0, 563.0, 555.0, 747.0, 747.0, 780.0, 780.0, 780.0, 780.0, 780.0, 780.0, 782.0, 782.0, 748.0, 748.0, 732.0, 732.0, 732.0, 260.0, 244.0, 487.0, 487.0, 446.0, 517.0, 486.0, 478.0, 478.0, 494.0, 494.0, 471.0, 471.0, 456.0, 428.0, 265.0, 265.0, 265.0, 265.0, 265.0, 265.0, 289.0, 289.0, 332.0, 318.0, 365.0, 360.0, 565.0, 309.0, 309.0, 309.0, 309.0, 628.0, 572.0, 564.0, 564.0, 564.0, 564.0, 564.0, 564.0, 564.0, 507.0, 507.0, 507.0, 483.0, 552.0, 552.0, 552.0, 552.0, 493.0, 493.0, 455.0, 455.0, 476.0, 455.0, 455.0, 430.0, 263.0, 323.0, 323.0, 324.0, 282.0, 242.0, 242.0, 242.0, 697.0, 697.0, 697.0, 293.0, 293.0, 293.0, 293.0, 293.0, 188.0, 188.0, 188.0, 188.0, 171.0, 171.0, 171.0, 171.0, 171.0, 168.0, 162.0, 51.0, 332.0, 345.0, 316.0, 428.0, 428.0, 428.0, 428.0, 314.0, 308.0, 505.0, 505.0, 505.0, 316.0, 316.0, 316.0, 309.0, 309.0, 338.0, 324.0, 309.0, 309.0, 309.0, 250.0, 250.0, 465.0, 465.0, 465.0, 403.0, 403.0, 382.0, 458.0, 254.0, 254.0, 254.0, 486.0, 486.0, 486.0, 486.0, 486.0, 486.0, 486.0, 486.0, 419.0, 418.0, 438.0, 438.0, 294.0, 294.0, 294.0, 270.0, 270.0, 250.0, -33.0, -33.0, -54.0, -54.0, -65.0, -74.0, -86.0, 739.0, 634.0, 394.0, 422.0, 410.0, 409.0, 394.0, 392.0, 73.0, 64.0, 397.0, 397.0, 373.0, 368.0, 388.0, 388.0, 605.0, 596.0, 596.0, 562.0, 562.0, 413.0, 411.0, 416.0, 402.0, 378.0, 378.0, 373.0, 403.0, 384.0, 384.0, 339.0, 339.0, 363.0, 473.0, 391.0, 407.0, 373.0, 352.0, 343.0, 343.0, 724.0, 724.0, 724.0, 724.0, 724.0, 724.0, 724.0, 724.0, 724.0, 747.0, 704.0, 704.0, 704.0, 777.0, 764.0, 759.0, 759.0, 759.0, 726.0, 704.0, 704.0, 306.0, 302.0, 302.0, 302.0, 302.0, 216.0, 216.0, 216.0, 310.0, 279.0, 279.0, 211.0, 573.0, 556.0, 693.0, 693.0, 556.0, 552.0, 552.0, 601.0, 594.0, 580.0, 580.0, 580.0, 580.0, 552.0, 552.0, 552.0, 585.0, 584.0, 251.0, 94.0, 90.0, 99.0, 99.0, 78.0, 73.0, 49.0, 152.0, 135.0, 135.0, 116.0, 271.0, 245.0, 116.0, 800.0, 800.0, 691.0, 691.0, 691.0, 691.0, 691.0, 691.0, 691.0, 691.0, 710.0, 691.0, 691.0, 691.0, 691.0, 691.0, 770.0, 747.0, 720.0, 294.0, 285.0, 764.0, 764.0, 744.0, 405.0, 398.0, 349.0, 349.0, 349.0, 349.0, 323.0, 323.0, 182.0, 182.0, 561.0, 561.0, 561.0, 561.0, 228.0, 115.0, 115.0, 115.0, 714.0, 714.0, 564.0, 564.0, 194.0, 189.0, 233.0, 169.0, 169.0, 162.0, 124.0, 124.0, 101.0, 101.0, 145.0, 145.0, 145.0, 351.0, 351.0, 339.0, 339.0, 339.0, 271.0, 493.0, 493.0, 474.0, 474.0, 170.0, 170.0, 170.0, 106.0, 92.0, 71.0, 71.0, 42.0, 155.0, 120.0, 116.0, 116.0, 163.0, 142.0, 142.0, 102.0, 203.0, 203.0, 78.0, 78.0, 78.0, 7.0, 59.0, 59.0, -8.0, 384.0, 330.0, 395.0, 395.0, 329.0, 329.0, 328.0, 46.0, 46.0, 46.0, 46.0, 46.0, 16.0, 16.0, 16.0, 80.0, 53.0, 53.0, 172.0, 145.0, 145.0, 145.0, 129.0, 59.0, 59.0, 48.0, 48.0, 550.0, 550.0, 535.0, 141.0, 107.0, 65.0, 85.0, 55.0, -19.0, -20.0, -20.0, 256.0, -20.0, 135.0, 135.0, -8.0, -8.0, 138.0, 126.0, 126.0, 319.0, 316.0, 316.0, 775.0, 775.0, 743.0, 743.0, 790.0, 770.0, 713.0, 700.0, 724.0, 724.0, 700.0, 700.0, 700.0, 607.0, 296.0, 296.0, 291.0, 291.0, 105.0, 105.0, 119.0, 119.0, 101.0, 101.0, 101.0, 793.0, 793.0, 793.0, 369.0, 369.0, 335.0, 138.0, 119.0, 479.0, 531.0, 527.0, 149.0, 149.0, 194.0, 177.0, 664.0, 651.0, 650.0, 587.0, 584.0, 584.0, 581.0, 442.0, 442.0, 166.0, 166.0, 158.0, 158.0, 74.0, 74.0, 74.0, 59.0, 59.0, 713.0, 424.0, 424.0, 424.0, 424.0, 126.0, 174.0, 174.0, 174.0, 174.0, 159.0, 117.0, 99.0, 99.0, 154.0, 142.0, 113.0, 113.0, -24.0, 254.0, 251.0, 653.0, 440.0, 240.0, 221.0, 221.0, 268.0, 92.0, 659.0, 659.0, 659.0, 633.0, 630.0, 630.0, 613.0, 606.0, 596.0, 558.0, 544.0, 541.0, 629.0, 629.0, 165.0, 149.0, 105.0, 105.0, 79.0, 132.0, 76.0, 76.0, -2.0, 444.0, -9.0, -16.0, -22.0, -28.0, 483.0, 471.0, 536.0, 494.0, 469.0, 469.0, 469.0, 469.0, 445.0, 445.0, 402.0, 635.0, 425.0, 479.0, 461.0, 393.0, 393.0, 295.0, 345.0, 335.0, 669.0, 613.0, 288.0, 288.0, 288.0, 288.0, 288.0, 288.0, 288.0, 357.0, 328.0, 288.0, 288.0, 288.0, 196.0, 196.0, 21.0, 12.0, -30.0, -34.0, -34.0, -78.0, 189.0, 189.0, 183.0, 183.0, 388.0, 382.0, 192.0, 606.0, 584.0, 584.0, 656.0, 454.0, 454.0, 206.0, 173.0, 173.0, 228.0, 220.0, 220.0, 220.0, 220.0, 105.0, 102.0, 102.0, 102.0, 175.0, 110.0, 108.0, 108.0, 108.0, 108.0, 100.0, 85.0, 69.0, 69.0, 30.0, 200.0, 240.0, 98.0, 59.0, 88.0, 88.0, 90.0, 67.0, 546.0, 546.0, 546.0, 739.0, 723.0, 713.0, 713.0, 490.0, 333.0, 329.0, 327.0, 327.0, 299.0, 260.0, 260.0, 260.0, 39.0, 39.0, 58.0, 429.0, 191.0, 219.0, 219.0, 178.0, 178.0, 184.0, 152.0, 230.0, 230.0, 211.0, 541.0, 755.0, 755.0, 755.0, 736.0, 596.0, 634.0, 614.0, 596.0, 552.0, 385.0, 385.0, 311.0, 311.0, 311.0, 311.0, 341.0, 341.0, 311.0, 311.0, 285.0, 285.0, 285.0, 285.0, 285.0, 340.0, 340.0, 340.0, 475.0, 475.0, 475.0, 340.0, 339.0, 339.0, 468.0, 446.0, 430.0, 404.0, 404.0, 295.0, 296.0, 295.0, 295.0, 295.0, 295.0, 295.0, 295.0, 295.0, 295.0, 295.0, 295.0, 295.0, 295.0, 295.0, 344.0, 318.0, 318.0, 300.0, 295.0, 311.0, 311.0, 295.0, 294.0, 311.0, 537.0, 311.0, 311.0, 311.0, 311.0, 350.0, 350.0, 350.0, 350.0, 350.0, 350.0, 366.0, 366.0, 366.0, 327.0, 286.0, 387.0, 352.0, 352.0, 331.0, 325.0, 286.0, 286.0, 285.0, 285.0, 285.0, 285.0, 332.0, 329.0, 376.0, 376.0, 376.0, 376.0, 14.0, -6.0, -53.0, 762.0, 747.0, 672.0, 666.0, 581.0, 590.0, 673.0, 644.0, 657.0, 640.0, 600.0, 600.0, 478.0, 395.0, 394.0, 394.0, 394.0, 394.0, 390.0, 390.0, 357.0, 357.0, 353.0, 353.0, 353.0, 399.0, 583.0, 574.0, 574.0, 536.0, 536.0, 536.0, 536.0, 407.0, 290.0, 283.0, 262.0, 262.0, 258.0, 250.0, 281.0, 688.0, 679.0, 597.0, 592.0, 636.0, 720.0, 684.0, 684.0, 684.0, 675.0, 675.0, 675.0, 643.0, 642.0, 642.0, 611.0, 611.0, 611.0, 621.0, 102.0, 92.0, -4.0, 587.0, 569.0, 532.0, 272.0, 252.0, 169.0, 130.0, 133.0, 117.0, 117.0, 55.0, 209.0, 209.0, 209.0, 101.0, 98.0, 127.0, 127.0, 92.0, 70.0, 70.0, 58.0, 58.0, 10.0, 9.0, 9.0, -40.0, 100.0, -42.0, 500.0, 489.0, 445.0, 435.0, 369.0, 369.0, 369.0, 300.0, 275.0, 275.0, 198.0, 89.0, 89.0, 35.0, -11.0, -11.0, 38.0, 155.0, 155.0, 138.0, 132.0, -29.0, -28.0, -34.0, 503.0, 527.0, 503.0, 491.0, 146.0, 146.0, 135.0, 131.0, 68.0, 519.0, 519.0, 519.0, 524.0, 524.0, 524.0, 524.0, 524.0, 524.0, 524.0, 342.0, 342.0, 784.0, 342.0, 636.0, 835.0, 835.0, 798.0, 726.0, 700.0, 700.0, 700.0, 700.0, 700.0, 700.0, 700.0, 700.0, 708.0, 559.0, 537.0, 525.0, 525.0, 525.0, 525.0, 316.0, 316.0, 67.0, 67.0, 100.0, 100.0, 100.0, 44.0, 22.0, 44.0, 59.0, 59.0, 410.0, 410.0, 410.0, 410.0, 410.0, 410.0, 383.0, 382.0, 421.0, 466.0, 466.0, 475.0, 475.0, 452.0, 584.0, 582.0, 580.0, 580.0, 580.0, 578.0, 578.0, 573.0, 443.0, 316.0, 316.0, 316.0, 316.0, 316.0, 316.0, 316.0, 316.0, 316.0, 316.0, 316.0, 316.0, 316.0, 316.0, 316.0, 505.0, 533.0, 511.0, 506.0, 371.0, 434.0, 410.0, 326.0, 364.0, 247.0, 286.0, 286.0, 253.0, 231.0, 145.0, 122.0, 124.0, 47.0, 47.0, 24.0, -16.0, 60.0, 60.0, 60.0, 34.0, 67.0, 348.0, 348.0, 348.0, 286.0, -66.0, -86.0, 271.0, 271.0, 262.0, 5.0, 0.0, -102.0, -66.0, -109.0, 505.0, 499.0, 447.0, 447.0, 447.0, 248.0, 433.0, 684.0, 684.0, 684.0, 694.0, 694.0, 706.0, 706.0, 706.0, 687.0, 393.0, 376.0, 364.0, 362.0, 362.0, 340.0, 340.0, 259.0, 230.0, 220.0, 217.0, 358.0, 358.0, 217.0, 217.0, 125.0, 125.0, 458.0, 160.0, 160.0, 285.0, 272.0, 747.0, 747.0, 742.0, 727.0, 727.0, 727.0, 727.0, 764.0, 741.0, 733.0, 727.0, 719.0, 468.0, 468.0, 456.0, 414.0, 435.0, 435.0, 435.0, 415.0, 482.0, 459.0, 434.0, 507.0, 498.0, 454.0, 433.0, 465.0, 578.0, 523.0, 523.0, 514.0, 495.0, 486.0, 450.0, 440.0, 440.0, 440.0, 440.0, 440.0, 440.0, 240.0, 223.0, 214.0, 214.0, 214.0, 214.0, 214.0, 214.0, 214.0, 213.0, 211.0, 211.0, 194.0, 224.0, 194.0, 194.0, 740.0, 709.0, 709.0, 732.0, 604.0, 604.0, 604.0, 604.0, 657.0, 652.0, 604.0, 604.0, 604.0, 604.0, 604.0, 604.0, 604.0, 604.0, 604.0, 604.0, 335.0, 344.0, 311.0, 311.0, 289.0, 263.0, 354.0, 578.0, 633.0, 633.0, 633.0, 633.0, 633.0, 571.0, 571.0, 564.0, 60.0, 594.0, 594.0, 60.0, 767.0, 128.0, 104.0, 24.0, 60.0, 359.0, 17.0, 12.0, 12.0, 490.0, 75.0, 73.0, 68.0, 68.0, 56.0, 57.0, 47.0, 47.0, -31.0, -43.0, -43.0, 5.0, -11.0, -11.0, -28.0, -40.0, -64.0, -71.0, 130.0, 167.0, 153.0, 148.0, 776.0, 776.0, 776.0, 820.0, 783.0, 713.0, 713.0, 713.0, 713.0, 713.0, 553.0, 553.0, 373.0, 273.0, 273.0, 312.0, 236.0, 98.0, 272.0, 272.0, 263.0, 241.0, 241.0, 181.0, 203.0, 203.0, 203.0, 200.0, 200.0, 40.0, -6.0, -7.0, -35.0, -9.0, -9.0, -35.0, -38.0, 160.0, 227.0, 193.0, 151.0, 151.0, 149.0, 734.0, 722.0, 722.0, 790.0, 790.0, 740.0, 717.0, 717.0, 703.0, 791.0, 703.0, 703.0, 703.0, 690.0, 642.0, 642.0, 642.0, 642.0, 642.0, 642.0, 642.0, 642.0, 615.0, 726.0, 726.0, 474.0, 457.0, 457.0, 485.0, 478.0, 132.0, 116.0, 116.0, 116.0, 113.0, 113.0, 113.0, 113.0, 152.0, 142.0, 115.0, 99.0, 9.0, -50.0, 506.0, 114.0, -7.0, -7.0, -19.0, -19.0, 20.0, -13.0, -39.0, -39.0, -64.0, -68.0, 649.0, 649.0, 551.0, 535.0, 411.0, 340.0, 324.0, 324.0, 363.0, 363.0, 363.0, 425.0, 392.0, 390.0, 390.0, 390.0, 390.0, 326.0, 260.0, 299.0, 299.0, 279.0, 114.0, 114.0, 114.0, 684.0, 684.0, 684.0, 577.0, 577.0, 548.0, 548.0, 548.0, 548.0, 675.0, 675.0, 675.0, 666.0, 735.0, 735.0, 750.0, 750.0, 705.0, 659.0, 666.0, 666.0, 666.0, 612.0, 559.0, 559.0, 559.0, 559.0, 559.0, 559.0, 559.0, 553.0, 549.0, 420.0, 394.0, 447.0, 417.0, 375.0, 364.0, 364.0, 662.0, 662.0, 662.0, 662.0, 662.0, 593.0, 593.0, 593.0, 559.0, 373.0, 373.0, 373.0, 373.0, 373.0, 373.0, 550.0, 550.0, 509.0, 486.0, 475.0, 470.0, 470.0, 343.0, 310.0]\n",
      "Kryt 4:\n",
      "[2303.0, 2104.0, 2120.0, 2438.0, 1867.0, 1525.0, 1484.0, 1401.0, 1389.0, 1298.0, 1283.0, 686.0, 721.0, 1346.0, 1085.0, 946.0, 919.0, 505.0, 496.0, 482.0, 364.0, 310.0, 310.0, 223.0, 222.0, 221.0, 221.0, 292.0, 793.0, 915.0, 794.0, 767.0, 763.0, 744.0, 1312.0, 1291.0, 938.0, 938.0, 1426.0, 1421.0, 1383.0, 1363.0, 967.0, 967.0, 876.0, 828.0, 823.0, 699.0, 529.0, 487.0, 421.0, 371.0, 222.0, 222.0, 724.0, 1184.0, 1773.0, 1438.0, 1376.0, 1369.0, 1380.0, 1323.0, 1320.0, 1248.0, 1233.0, 852.0, 1371.0, 1426.0, 1426.0, 1155.0, 1083.0, 1775.0, 1741.0, 1388.0, 1226.0, 1330.0, 1277.0, 1101.0, 1021.0, 1018.0, 1002.0, 983.0, 889.0, 1295.0, 1282.0, 1183.0, 1057.0, 1033.0, 957.0, 982.0, 966.0, 1737.0, 1723.0, 2081.0, 1995.0, 1587.0, 1409.0, 1375.0, 1105.0, 1375.0, 1367.0, 1359.0, 1536.0, 1523.0, 1233.0, 1223.0, 514.0, 502.0, 939.0, 829.0, 737.0, 994.0, 857.0, 833.0, 833.0, 890.0, 1336.0, 1077.0, 1065.0, 973.0, 973.0, 757.0, 724.0, 708.0, 717.0, 712.0, 712.0, 808.0, 794.0, 1043.0, 957.0, 1243.0, 1382.0, 1703.0, 1587.0, 1376.0, 1171.0, 1059.0, 1637.0, 1604.0, 1573.0, 1340.0, 1016.0, 1430.0, 1430.0, 1339.0, 1395.0, 1338.0, 1323.0, 1102.0, 977.0, 1325.0, 1301.0, 1267.0, 1215.0, 913.0, 641.0, 455.0, 455.0, 826.0, 483.0, 471.0, 430.0, 370.0, 546.0, 546.0, 550.0, 508.0, 353.0, 352.0, 349.0, 996.0, 983.0, 1009.0, 481.0, 775.0, 751.0, 732.0, 675.0, 553.0, 458.0, 427.0, 453.0, 344.0, 321.0, 321.0, 257.0, 219.0, 216.0, 210.0, 104.0, 366.0, 407.0, 378.0, 974.0, 1026.0, 989.0, 870.0, 359.0, 353.0, 837.0, 825.0, 825.0, 636.0, 635.0, 627.0, 620.0, 602.0, 648.0, 620.0, 495.0, 516.0, 482.0, 456.0, 561.0, 984.0, 978.0, 980.0, 690.0, 668.0, 557.0, 866.0, 401.0, 393.0, 495.0, 1068.0, 1057.0, 902.0, 887.0, 943.0, 911.0, 893.0, 867.0, 751.0, 744.0, 846.0, 786.0, 552.0, 527.0, 510.0, 462.0, 303.0, 263.0, 0, 0, 0, 0, 0, 0, 0, 739.0, 634.0, 415.0, 473.0, 461.0, 430.0, 394.0, 401.0, 167.0, 96.0, 527.0, 524.0, 476.0, 466.0, 723.0, 541.0, 1549.0, 1996.0, 1961.0, 1642.0, 1630.0, 1231.0, 1165.0, 1096.0, 1021.0, 640.0, 578.0, 563.0, 838.0, 800.0, 741.0, 540.0, 497.0, 512.0, 971.0, 521.0, 613.0, 617.0, 545.0, 485.0, 475.0, 1199.0, 1180.0, 1261.0, 1306.0, 1208.0, 1183.0, 1183.0, 1168.0, 1077.0, 1202.0, 1877.0, 1843.0, 1789.0, 2178.0, 1370.0, 1355.0, 1343.0, 1326.0, 1203.0, 1203.0, 1188.0, 325.0, 505.0, 505.0, 498.0, 480.0, 428.0, 471.0, 642.0, 735.0, 715.0, 496.0, 283.0, 806.0, 755.0, 1532.0, 1498.0, 721.0, 709.0, 662.0, 1120.0, 995.0, 959.0, 848.0, 794.0, 580.0, 552.0, 861.0, 830.0, 896.0, 842.0, 401.0, 235.0, 146.0, 101.0, 99.0, 78.0, 73.0, 49.0, 152.0, 135.0, 135.0, 116.0, 352.0, 326.0, 116.0, 918.0, 915.0, 822.0, 1123.0, 1134.0, 922.0, 922.0, 805.0, 784.0, 890.0, 883.0, 830.0, 792.0, 771.0, 691.0, 863.0, 1024.0, 975.0, 921.0, 503.0, 489.0, 1337.0, 1313.0, 1258.0, 964.0, 943.0, 800.0, 768.0, 768.0, 759.0, 620.0, 620.0, 353.0, 315.0, 915.0, 728.0, 728.0, 700.0, 343.0, 130.0, 130.0, 115.0, 829.0, 953.0, 846.0, 845.0, 547.0, 532.0, 620.0, 371.0, 325.0, 311.0, 225.0, 225.0, 185.0, 168.0, 250.0, 281.0, 280.0, 678.0, 669.0, 622.0, 797.0, 764.0, 729.0, 1257.0, 1153.0, 1103.0, 829.0, 450.0, 450.0, 338.0, 161.0, 137.0, 119.0, 105.0, 73.0, 295.0, 200.0, 201.0, 201.0, 295.0, 277.0, 253.0, 102.0, 285.0, 343.0, 170.0, 155.0, 140.0, 7.0, 66.0, 59.0, 0, 546.0, 503.0, 797.0, 664.0, 598.0, 572.0, 556.0, 46.0, 48.0, 46.0, 46.0, 46.0, 16.0, 24.0, 16.0, 136.0, 99.0, 99.0, 358.0, 189.0, 171.0, 145.0, 129.0, 59.0, 59.0, 48.0, 65.0, 616.0, 555.0, 535.0, 248.0, 107.0, 65.0, 85.0, 55.0, 0, 0, 0, 256.0, 0, 135.0, 135.0, 0, 0, 138.0, 126.0, 126.0, 504.0, 428.0, 499.0, 1352.0, 1465.0, 1306.0, 1306.0, 1535.0, 1435.0, 1270.0, 1229.0, 1277.0, 1294.0, 1170.0, 1134.0, 1123.0, 1028.0, 582.0, 558.0, 462.0, 411.0, 105.0, 105.0, 145.0, 145.0, 178.0, 178.0, 178.0, 859.0, 834.0, 832.0, 650.0, 550.0, 516.0, 263.0, 203.0, 689.0, 684.0, 680.0, 228.0, 228.0, 461.0, 293.0, 867.0, 815.0, 811.0, 748.0, 736.0, 736.0, 666.0, 527.0, 527.0, 251.0, 241.0, 212.0, 236.0, 181.0, 188.0, 188.0, 132.0, 126.0, 764.0, 531.0, 531.0, 495.0, 492.0, 138.0, 274.0, 214.0, 211.0, 174.0, 159.0, 117.0, 99.0, 99.0, 160.0, 142.0, 113.0, 113.0, 0, 290.0, 284.0, 960.0, 747.0, 463.0, 233.0, 224.0, 348.0, 164.0, 805.0, 736.0, 736.0, 654.0, 822.0, 822.0, 806.0, 773.0, 739.0, 651.0, 635.0, 632.0, 705.0, 705.0, 252.0, 225.0, 181.0, 181.0, 155.0, 208.0, 115.0, 76.0, 0, 444.0, 0, 0, 0, 0, 483.0, 471.0, 703.0, 696.0, 671.0, 605.0, 599.0, 504.0, 480.0, 480.0, 437.0, 1020.0, 781.0, 849.0, 811.0, 393.0, 393.0, 295.0, 674.0, 505.0, 1134.0, 1078.0, 713.0, 679.0, 662.0, 668.0, 650.0, 574.0, 567.0, 866.0, 815.0, 655.0, 458.0, 484.0, 222.0, 217.0, 21.0, 12.0, 0, 0, 0, 0, 189.0, 189.0, 183.0, 183.0, 570.0, 564.0, 192.0, 795.0, 773.0, 761.0, 814.0, 678.0, 696.0, 338.0, 336.0, 272.0, 476.0, 452.0, 452.0, 371.0, 371.0, 233.0, 224.0, 222.0, 222.0, 381.0, 298.0, 292.0, 289.0, 289.0, 200.0, 184.0, 154.0, 99.0, 99.0, 30.0, 281.0, 350.0, 173.0, 66.0, 153.0, 146.0, 220.0, 151.0, 757.0, 737.0, 695.0, 1428.0, 1364.0, 1322.0, 1315.0, 897.0, 717.0, 1005.0, 793.0, 767.0, 565.0, 397.0, 364.0, 299.0, 60.0, 48.0, 86.0, 526.0, 460.0, 516.0, 478.0, 400.0, 363.0, 390.0, 343.0, 549.0, 500.0, 460.0, 908.0, 1494.0, 1423.0, 1423.0, 1195.0, 1056.0, 1373.0, 1293.0, 1004.0, 921.0, 859.0, 787.0, 396.0, 328.0, 311.0, 597.0, 1002.0, 993.0, 606.0, 311.0, 285.0, 285.0, 522.0, 512.0, 508.0, 762.0, 757.0, 715.0, 1309.0, 1284.0, 1208.0, 938.0, 933.0, 846.0, 1321.0, 1230.0, 1198.0, 1090.0, 934.0, 771.0, 827.0, 779.0, 758.0, 731.0, 728.0, 720.0, 675.0, 751.0, 659.0, 514.0, 330.0, 311.0, 295.0, 295.0, 372.0, 320.0, 320.0, 477.0, 295.0, 348.0, 319.0, 295.0, 294.0, 311.0, 860.0, 473.0, 473.0, 472.0, 311.0, 382.0, 370.0, 352.0, 350.0, 395.0, 445.0, 462.0, 462.0, 372.0, 337.0, 296.0, 446.0, 648.0, 550.0, 487.0, 333.0, 286.0, 286.0, 285.0, 285.0, 285.0, 285.0, 370.0, 364.0, 487.0, 485.0, 416.0, 392.0, 14.0, 0, 0, 762.0, 747.0, 672.0, 666.0, 581.0, 792.0, 877.0, 752.0, 780.0, 744.0, 662.0, 600.0, 478.0, 395.0, 394.0, 394.0, 583.0, 495.0, 848.0, 747.0, 710.0, 710.0, 662.0, 662.0, 646.0, 899.0, 1410.0, 1395.0, 1151.0, 1067.0, 977.0, 976.0, 928.0, 526.0, 409.0, 351.0, 330.0, 262.0, 258.0, 250.0, 294.0, 1112.0, 1065.0, 863.0, 817.0, 949.0, 1606.0, 1534.0, 1284.0, 808.0, 712.0, 702.0, 724.0, 692.0, 688.0, 667.0, 611.0, 950.0, 674.0, 694.0, 108.0, 92.0, 0, 587.0, 731.0, 694.0, 623.0, 563.0, 382.0, 201.0, 297.0, 227.0, 184.0, 104.0, 313.0, 313.0, 269.0, 124.0, 115.0, 243.0, 198.0, 163.0, 129.0, 70.0, 58.0, 58.0, 10.0, 9.0, 9.0, 0, 100.0, 0, 500.0, 489.0, 445.0, 435.0, 406.0, 440.0, 700.0, 382.0, 318.0, 275.0, 198.0, 89.0, 144.0, 35.0, 0, 0, 38.0, 157.0, 155.0, 138.0, 132.0, 0, 0, 0, 503.0, 527.0, 503.0, 491.0, 146.0, 146.0, 135.0, 131.0, 68.0, 519.0, 696.0, 1063.0, 915.0, 812.0, 812.0, 844.0, 830.0, 823.0, 820.0, 342.0, 342.0, 1157.0, 342.0, 1036.0, 1935.0, 1935.0, 1899.0, 1149.0, 1097.0, 1078.0, 1097.0, 792.0, 962.0, 843.0, 773.0, 755.0, 774.0, 607.0, 1021.0, 868.0, 863.0, 842.0, 789.0, 580.0, 390.0, 67.0, 67.0, 116.0, 116.0, 116.0, 44.0, 22.0, 66.0, 96.0, 59.0, 478.0, 445.0, 416.0, 410.0, 410.0, 521.0, 438.0, 437.0, 497.0, 961.0, 903.0, 973.0, 973.0, 888.0, 881.0, 1199.0, 1101.0, 1047.0, 1023.0, 902.0, 899.0, 889.0, 801.0, 388.0, 380.0, 357.0, 324.0, 316.0, 482.0, 472.0, 630.0, 601.0, 596.0, 618.0, 596.0, 364.0, 371.0, 316.0, 870.0, 956.0, 888.0, 883.0, 664.0, 891.0, 795.0, 540.0, 724.0, 377.0, 416.0, 416.0, 383.0, 364.0, 278.0, 209.0, 213.0, 89.0, 47.0, 24.0, 0, 83.0, 68.0, 69.0, 46.0, 102.0, 444.0, 363.0, 348.0, 286.0, 0, 0, 271.0, 271.0, 262.0, 5.0, 0.0, 0, 0, 0, 505.0, 499.0, 447.0, 447.0, 447.0, 248.0, 433.0, 1167.0, 1132.0, 1124.0, 1218.0, 1162.0, 1172.0, 957.0, 946.0, 917.0, 645.0, 611.0, 637.0, 625.0, 621.0, 475.0, 392.0, 333.0, 304.0, 290.0, 284.0, 610.0, 575.0, 443.0, 330.0, 143.0, 125.0, 609.0, 164.0, 160.0, 294.0, 272.0, 1106.0, 1102.0, 1097.0, 1082.0, 1068.0, 1066.0, 1155.0, 1552.0, 1390.0, 1278.0, 1235.0, 935.0, 805.0, 805.0, 769.0, 727.0, 790.0, 766.0, 758.0, 690.0, 1244.0, 1159.0, 793.0, 1273.0, 1228.0, 1177.0, 1108.0, 1232.0, 2034.0, 1591.0, 1532.0, 1469.0, 1362.0, 1317.0, 1147.0, 1117.0, 1068.0, 984.0, 984.0, 831.0, 829.0, 712.0, 678.0, 640.0, 631.0, 616.0, 608.0, 547.0, 547.0, 540.0, 536.0, 521.0, 517.0, 477.0, 556.0, 487.0, 395.0, 986.0, 945.0, 907.0, 1113.0, 894.0, 882.0, 816.0, 806.0, 1300.0, 1041.0, 739.0, 733.0, 638.0, 1185.0, 1158.0, 1560.0, 1525.0, 1423.0, 1196.0, 1073.0, 867.0, 853.0, 702.0, 700.0, 645.0, 593.0, 684.0, 1313.0, 1751.0, 1714.0, 1612.0, 1264.0, 839.0, 732.0, 728.0, 613.0, 60.0, 691.0, 682.0, 60.0, 851.0, 294.0, 149.0, 45.0, 171.0, 359.0, 24.0, 12.0, 19.0, 641.0, 208.0, 202.0, 187.0, 187.0, 56.0, 113.0, 76.0, 47.0, 0, 0, 0, 5.0, 0, 0, 0, 0, 0, 0, 130.0, 167.0, 153.0, 148.0, 935.0, 906.0, 858.0, 820.0, 783.0, 713.0, 1295.0, 1206.0, 1034.0, 984.0, 824.0, 807.0, 670.0, 495.0, 295.0, 334.0, 258.0, 98.0, 355.0, 331.0, 313.0, 340.0, 340.0, 325.0, 416.0, 250.0, 250.0, 241.0, 240.0, 66.0, 0, 0, 0, 0, 0, 0, 0, 160.0, 418.0, 377.0, 293.0, 293.0, 289.0, 908.0, 879.0, 879.0, 1646.0, 1646.0, 1588.0, 1509.0, 1489.0, 1468.0, 1991.0, 1565.0, 1546.0, 1546.0, 1525.0, 2105.0, 1604.0, 1594.0, 1555.0, 880.0, 717.0, 669.0, 669.0, 642.0, 825.0, 816.0, 542.0, 495.0, 489.0, 528.0, 521.0, 172.0, 160.0, 153.0, 200.0, 171.0, 137.0, 122.0, 113.0, 152.0, 142.0, 115.0, 99.0, 9.0, 0, 508.0, 114.0, 0, 0, 0, 0, 20.0, 0, 0, 0, 0, 0, 649.0, 649.0, 551.0, 538.0, 520.0, 343.0, 329.0, 324.0, 430.0, 769.0, 686.0, 896.0, 773.0, 751.0, 730.0, 730.0, 721.0, 472.0, 408.0, 525.0, 340.0, 300.0, 192.0, 192.0, 192.0, 1065.0, 1065.0, 1063.0, 930.0, 909.0, 880.0, 954.0, 906.0, 844.0, 1476.0, 1346.0, 1624.0, 1570.0, 2377.0, 2295.0, 2243.0, 2109.0, 2009.0, 1807.0, 1842.0, 1817.0, 1809.0, 1676.0, 1344.0, 1250.0, 1158.0, 1086.0, 1264.0, 1249.0, 1076.0, 937.0, 933.0, 933.0, 662.0, 784.0, 754.0, 654.0, 646.0, 639.0, 1298.0, 1292.0, 1471.0, 1347.0, 1316.0, 1250.0, 1173.0, 1103.0, 1069.0, 661.0, 641.0, 829.0, 819.0, 760.0, 588.0, 816.0, 803.0, 721.0, 703.0, 681.0, 671.0, 628.0, 501.0, 468.0]\n",
      "Kryt 1:\n",
      "[1435.0, 1469.0, 1504.0, 1472.0, 1457.0, 1523.0, 1581.0, 1484.0]\n",
      "Kryt 2:\n",
      "[51.0, 65.0, 0, 0, 68.0, 0, 0, 0]\n",
      "Kryt 3:\n",
      "[51.0, 65.0, -78.0, -42.0, 68.0, -102.0, -109.0, -71.0]\n",
      "Kryt 4:\n",
      "[104.0, 65.0, 0, 0, 68.0, 0, 0, 0]\n"
     ]
    }
   ],
   "source": [
    "print('Kryt 1:')\n",
    "print(P_goal_1)\n",
    "print('Kryt 2:')\n",
    "print(P_goal_2)\n",
    "print('Kryt 3:')\n",
    "print(P_goal_3)\n",
    "print('Kryt 4:')\n",
    "print(P_goal_4)\n",
    "\n",
    "print('Kryt 1:')\n",
    "print(F_goal_1)\n",
    "print('Kryt 2:')\n",
    "print(F_goal_2)\n",
    "print('Kryt 3:')\n",
    "print(F_goal_3)\n",
    "print('Kryt 4:')\n",
    "print(F_goal_4)"
   ]
  },
  {
   "cell_type": "code",
   "execution_count": null,
   "metadata": {},
   "outputs": [],
   "source": []
  }
 ],
 "metadata": {
  "kernelspec": {
   "display_name": "Python 3",
   "language": "python",
   "name": "python3"
  },
  "language_info": {
   "codemirror_mode": {
    "name": "ipython",
    "version": 3
   },
   "file_extension": ".py",
   "mimetype": "text/x-python",
   "name": "python",
   "nbconvert_exporter": "python",
   "pygments_lexer": "ipython3",
   "version": "3.8.5"
  }
 },
 "nbformat": 4,
 "nbformat_minor": 4
}
