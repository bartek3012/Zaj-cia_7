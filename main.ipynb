{
 "cells": [
  {
   "cell_type": "code",
   "execution_count": 111,
   "metadata": {},
   "outputs": [],
   "source": [
    "import RandomNumberGenerator as rand\n",
    "import numpy as np\n",
    "import math\n",
    "import time\n",
    "import tqdm\n",
    "import matplotlib.pyplot as plt\n",
    "import copy\n",
    "\n",
    "rand_p = rand.RandomNumberGenerator(940)\n",
    "rand_w = rand.RandomNumberGenerator(98)\n",
    "rand_d = rand.RandomNumberGenerator(689)\n",
    "rand_0 = rand.RandomNumberGenerator(56)\n",
    "rand_1 = rand.RandomNumberGenerator(3)\n",
    "rand_2 = rand.RandomNumberGenerator(345)\n",
    "rand_3 = rand.RandomNumberGenerator(10)\n",
    "rand_4 = rand.RandomNumberGenerator(935)\n",
    "rand_5 = rand.RandomNumberGenerator(90)\n",
    "rand_6 = rand.RandomNumberGenerator(87)\n",
    "rand_7 = rand.RandomNumberGenerator(6556)\n",
    "rand_generator = [rand_0, rand_1, rand_2, rand_3, rand_4, rand_5, rand_6, rand_7]\n",
    "\n",
    "A = 0\n",
    "number_of_machines = 3\n",
    "n = 30\n",
    "p_periods = np.zeros((number_of_machines, n))\n",
    "d_deadlies = np.zeros(n)\n",
    "for i in range(number_of_machines):\n",
    "    for j in range(n):\n",
    "        p_periods[i,j] = rand_p.nextInt(1,99)\n",
    "        A = A + p_periods[i,j]\n",
    "# B = (1/2)*A\n",
    "# A = (1/6)*A\n",
    "B = (1/12)*A\n",
    "A = (1/24)*A\n",
    "for j in range(n):\n",
    "    d_deadlies[j] = rand_d.nextInt(A, B)"
   ]
  },
  {
   "cell_type": "code",
   "execution_count": 112,
   "metadata": {},
   "outputs": [],
   "source": [
    "def goal_function(permutation, periods, deadlines, number_machines, criterion = 1):\n",
    "    n = len(permutation)\n",
    "    C = np.zeros((number_machines, n))\n",
    "    for i in range(number_machines):\n",
    "        for j in permutation:\n",
    "            C[i,j] = max(C[i-1,j], C[i,j-1]) + periods[i, j]\n",
    "    # Czas zakończenia wszystkich zadań (makespan)\n",
    "    if(criterion == 1):\n",
    "        try:\n",
    "            return max(C[2, :])\n",
    "        except:\n",
    "            print(periods)\n",
    "    \n",
    "    # Maksymalne spóźnienie zadania (max tardiness)\n",
    "    if(criterion == 2):\n",
    "        return max(max(C[2,:]-deadlines[:]),0)\n",
    "    \n",
    "    # Maksymalna nieterminowość zadania (max lateness)\n",
    "    if(criterion == 3):\n",
    "        return max(C[2,:]-deadlines[:])\n",
    "    \n",
    "    # Suma nieterminowości zadań (total lateness)\n",
    "    if(criterion == 4):\n",
    "        return sum(C[2,:]-deadlines[:])\n",
    "\n",
    "    "
   ]
  },
  {
   "cell_type": "code",
   "execution_count": 113,
   "metadata": {},
   "outputs": [],
   "source": [
    "def get_random_permutation(n, random_gen):\n",
    "    available = [x for x in range(n)]\n",
    "    result = []\n",
    "    for i in range(n):\n",
    "        index = random_gen.nextInt(0, len(available)-1)\n",
    "        result.append(available.pop(index))\n",
    "    return result"
   ]
  },
  {
   "cell_type": "code",
   "execution_count": 114,
   "metadata": {},
   "outputs": [
    {
     "data": {
      "text/plain": [
       "[4, 0]"
      ]
     },
     "execution_count": 114,
     "metadata": {},
     "output_type": "execute_result"
    }
   ],
   "source": [
    "def roll(n, random_gen):\n",
    "    random_gen.nextInt(1, n)\n",
    "    result = []\n",
    "    result.append(random_gen.nextInt(0, n-1))\n",
    "    result.append(random_gen.nextInt(0, n-1))\n",
    "    while result[0] == result[1]:\n",
    "        result[1] = random_gen.nextInt(0,n-1)\n",
    "    return result\n",
    "\n",
    "roll(5, rand_w)"
   ]
  },
  {
   "cell_type": "code",
   "execution_count": 115,
   "metadata": {},
   "outputs": [],
   "source": [
    "def task_1(periods, deadlines, number_machines, max_iter, random_gen, proba = 0.05):\n",
    "    n = len(deadlines)\n",
    "    P = []\n",
    "    x = get_random_permutation(n, random_gen[0])\n",
    "    P.append(copy.deepcopy(x))\n",
    "#     print(f'Poczatkowe: {P}')\n",
    "    for it in range(max_iter):\n",
    "#         if(P[0] == []):\n",
    "#             print(f'Index: {it}')\n",
    "        numbers_to_change = roll(n, random_gen[1])\n",
    "        x_prim = copy.deepcopy(x)\n",
    "        x_prim[numbers_to_change[0]] = x[numbers_to_change[1]]\n",
    "        x_prim[numbers_to_change[1]] = x[numbers_to_change[0]]\n",
    "        \n",
    "        x_goal_f_1 = goal_function(x, periods, deadlines, number_machines, 1)\n",
    "        x_goal_f_2 = goal_function(x, periods, deadlines, number_machines, 2)\n",
    "        x_prim_goal_f_1 = goal_function(x_prim, periods, deadlines, number_machines, 1)\n",
    "        x_prim_goal_f_2 = goal_function(x_prim, periods, deadlines, number_machines, 2)\n",
    "        if((x_prim_goal_f_1 < x_goal_f_1 and x_prim_goal_f_2 <= x_goal_f_2) or (x_prim_goal_f_1 <= x_goal_f_1 and x_prim_goal_f_2 < x_goal_f_2)):\n",
    "            x = copy.deepcopy(x_prim)\n",
    "            P.append(copy.deepcopy(x_prim))\n",
    "        else:\n",
    "            if(proba > random_gen[2].nextFloat(0,1)):\n",
    "                #x.clear() #Tutaj był błąd, nie wiedzieć czemu przypisanie z linijki niżej nie działało\n",
    "                x = copy.deepcopy(x_prim)\n",
    "                P.append(copy.deepcopy(x_prim))\n",
    "#     print(f'Późniejsze: {P}')\n",
    "    F = copy.deepcopy(P)\n",
    "#     print(f'P: {P}')\n",
    "#     print(f'F: {F}')\n",
    "    for i in range(len(P)):\n",
    "        b_1 = goal_function(P[i], periods, deadlines, number_machines, 1)\n",
    "        b_2 = goal_function(P[i], periods, deadlines, number_machines, 2)\n",
    "        for a in F:\n",
    "            a_1 = goal_function(a, periods, deadlines, number_machines, 1)\n",
    "            a_2 = goal_function(a, periods, deadlines, number_machines, 2)\n",
    "            if((a_1 < b_1 and a_2 <= b_2) or (a_1 <= b_1 and a_2 < b_2)):\n",
    "                F.remove(P[i])\n",
    "                break\n",
    "    P_f_goal_1 = []\n",
    "    P_f_goal_2 = []\n",
    "    F_f_goal_1 = []\n",
    "    F_f_goal_2 = []\n",
    "    for i in range(len(P)):\n",
    "        P_f_goal_1.append(goal_function(P[i], periods, deadlines, number_machines, 1))\n",
    "        P_f_goal_2.append(goal_function(P[i], periods, deadlines, number_machines, 2))\n",
    "    for i in range(len(F)):\n",
    "        F_f_goal_1.append(goal_function(F[i], periods, deadlines, number_machines, 1))\n",
    "        F_f_goal_2.append(goal_function(F[i], periods, deadlines, number_machines, 2))\n",
    "    return P, F, P_f_goal_1, P_f_goal_2, F_f_goal_1, F_f_goal_2           "
   ]
  },
  {
   "cell_type": "code",
   "execution_count": 116,
   "metadata": {},
   "outputs": [],
   "source": [
    "P, F, P_goal_1, P_goal_2, F_goal_1, F_goal_2 = task_1(p_periods, d_deadlies, number_of_machines, 1000, rand_generator, 1)"
   ]
  },
  {
   "cell_type": "code",
   "execution_count": 120,
   "metadata": {},
   "outputs": [
    {
     "data": {
      "image/png": "[encoded data removed]",
      "text/plain": [
       "<Figure size 432x288 with 1 Axes>"
      ]
     },
     "metadata": {
      "needs_background": "light"
     },
     "output_type": "display_data"
    }
   ],
   "source": [
    "def plot_pareto(F_goal_1, F_goal_2, P_goal_1, P_goal_2):\n",
    "    plt.scatter(P_goal_1, P_goal_2)\n",
    "    plt.scatter(F_goal_1, F_goal_2)\n",
    "    plt.show()\n",
    "\n",
    "plot_pareto(F_goal_1, F_goal_2, P_goal_1, P_goal_2)"
   ]
  },
  {
   "cell_type": "code",
   "execution_count": 118,
   "metadata": {},
   "outputs": [
    {
     "data": {
      "image/png": "[encoded data removed]",
      "text/plain": [
       "<Figure size 432x288 with 1 Axes>"
      ]
     },
     "metadata": {
      "needs_background": "light"
     },
     "output_type": "display_data"
    }
   ],
   "source": [
    "plot_pareto(F_goal_1, F_goal_2)"
   ]
  },
  {
   "cell_type": "code",
   "execution_count": null,
   "metadata": {},
   "outputs": [],
   "source": []
  }
 ],
 "metadata": {
  "kernelspec": {
   "display_name": "Python 3",
   "language": "python",
   "name": "python3"
  },
  "language_info": {
   "codemirror_mode": {
    "name": "ipython",
    "version": 3
   },
   "file_extension": ".py",
   "mimetype": "text/x-python",
   "name": "python",
   "nbconvert_exporter": "python",
   "pygments_lexer": "ipython3",
   "version": "3.8.5"
  }
 },
 "nbformat": 4,
 "nbformat_minor": 4
}
